{
 "cells": [
  {
   "cell_type": "markdown",
   "metadata": {
    "id": "xeBj9Lx_hEcC"
   },
   "source": [
    "#IMPORT NECESSARY LIBRARIES"
   ]
  },
  {
   "cell_type": "code",
   "execution_count": 1,
   "metadata": {
    "colab": {
     "base_uri": "https://localhost:8080/"
    },
    "id": "HqTP0_p8hD2W",
    "jupyter": {
     "source_hidden": true
    },
    "outputId": "535a41df-c449-4a26-a620-6c9df093626e"
   },
   "outputs": [
    {
     "name": "stderr",
     "output_type": "stream",
     "text": [
      "/tmp/ipykernel_1690833/2250032840.py:11: DeprecationWarning: Importing display from IPython.core.display is deprecated since IPython 7.14, please import from IPython display\n",
      "  from IPython.core.display import display, HTML\n"
     ]
    },
    {
     "data": {
      "text/html": [
       "<style>.container { width:100% !important; }</style>"
      ],
      "text/plain": [
       "<IPython.core.display.HTML object>"
      ]
     },
     "metadata": {},
     "output_type": "display_data"
    }
   ],
   "source": [
    "import os\n",
    "import random\n",
    "random.seed(42) # Set random seed for reproducibility\n",
    "import time\n",
    "import math\n",
    "import pandas as pd\n",
    "import numpy as np\n",
    "import cv2\n",
    "import matplotlib.pyplot as plt\n",
    "import seaborn as sns\n",
    "from IPython.core.display import display, HTML\n",
    "display(HTML(\"<style>.container { width:100% !important; }</style>\"))"
   ]
  },
  {
   "cell_type": "code",
   "execution_count": 2,
   "metadata": {
    "colab": {
     "base_uri": "https://localhost:8080/"
    },
    "id": "ouxVF_AthRY5",
    "jupyter": {
     "source_hidden": true
    },
    "outputId": "f240a508-9637-4efc-faa1-abee3ba9cff9"
   },
   "outputs": [],
   "source": [
    "from mpl_toolkits.mplot3d import Axes3D\n",
    "from skimage import io\n",
    "from sklearn.preprocessing import LabelEncoder\n",
    "from sklearn.model_selection import train_test_split\n",
    "from sklearn.metrics import accuracy_score, confusion_matrix\n",
    "from sklearn.ensemble import VotingClassifier\n",
    "from imblearn.over_sampling import RandomOverSampler\n",
    "import imgaug.augmenters as iaa"
   ]
  },
  {
   "cell_type": "code",
   "execution_count": 3,
   "metadata": {
    "colab": {
     "base_uri": "https://localhost:8080/"
    },
    "id": "hNk52iwveb-d",
    "jupyter": {
     "source_hidden": true
    },
    "outputId": "c0c9dd7a-87ac-42b3-e944-026a331937d1"
   },
   "outputs": [
    {
     "name": "stderr",
     "output_type": "stream",
     "text": [
      "/storage/phucpg/venv/v1/lib/python3.9/site-packages/tqdm/auto.py:21: TqdmWarning: IProgress not found. Please update jupyter and ipywidgets. See https://ipywidgets.readthedocs.io/en/stable/user_install.html\n",
      "  from .autonotebook import tqdm as notebook_tqdm\n"
     ]
    }
   ],
   "source": [
    "import torch\n",
    "import torch.nn as nn\n",
    "import torch.nn.functional as F\n",
    "import torch.optim as optim\n",
    "from torch.optim.lr_scheduler import StepLR, OneCycleLR\n",
    "from torch.utils.data import Dataset, DataLoader\n",
    "from torch.utils.tensorboard import SummaryWriter\n",
    "import torch.multiprocessing as mp\n",
    "from torchvision import models, transforms\n",
    "from PIL import Image\n",
    "from tqdm import tqdm"
   ]
  },
  {
   "cell_type": "code",
   "execution_count": 4,
   "metadata": {
    "jupyter": {
     "source_hidden": true
    }
   },
   "outputs": [],
   "source": [
    "# !pip install efficientnet_pytorch\n",
    "# !pip install pytorch-dpn-pretrained\n",
    "from efficientnet_pytorch import EfficientNet\n",
    "import torch.hub"
   ]
  },
  {
   "cell_type": "markdown",
   "metadata": {
    "id": "dRZWMtovhU9p"
   },
   "source": [
    "##Define runtime"
   ]
  },
  {
   "cell_type": "code",
   "execution_count": 5,
   "metadata": {
    "colab": {
     "base_uri": "https://localhost:8080/"
    },
    "id": "72CrH_5gv99C",
    "jupyter": {
     "source_hidden": true
    },
    "outputId": "ea0814d4-95b9-43ae-c4bc-95bdf51410f0"
   },
   "outputs": [
    {
     "name": "stdout",
     "output_type": "stream",
     "text": [
      "time: 907 µs (started: 2024-08-19 14:33:03 +07:00)\n"
     ]
    }
   ],
   "source": [
    "# !pip install ipython-autotime\n",
    "%load_ext autotime"
   ]
  },
  {
   "cell_type": "markdown",
   "metadata": {
    "id": "cZ2od0fWRUCi"
   },
   "source": [
    "##Define GPU usage"
   ]
  },
  {
   "cell_type": "code",
   "execution_count": 6,
   "metadata": {
    "jupyter": {
     "source_hidden": true
    }
   },
   "outputs": [
    {
     "name": "stdout",
     "output_type": "stream",
     "text": [
      "Available GPUs:\n",
      "GPU 0: Tesla K80\n",
      "GPU 1: Tesla K80\n",
      "GPU 2: Tesla K80\n",
      "GPU 3: Tesla K80\n",
      "GPU 4: Tesla K80\n",
      "GPU 5: Tesla K80\n",
      "GPU 6: Tesla K80\n",
      "GPU 7: Tesla K80\n",
      "time: 159 ms (started: 2024-08-19 14:33:03 +07:00)\n"
     ]
    }
   ],
   "source": [
    "print(\"Available GPUs:\")\n",
    "for i in range(torch.cuda.device_count()):\n",
    "    print(f\"GPU {i}: {torch.cuda.get_device_name(i)}\")\n"
   ]
  },
  {
   "cell_type": "code",
   "execution_count": 7,
   "metadata": {},
   "outputs": [
    {
     "name": "stdout",
     "output_type": "stream",
     "text": [
      "Using GPU 4: Tesla K80\n",
      "time: 9.09 ms (started: 2024-08-19 14:33:04 +07:00)\n"
     ]
    }
   ],
   "source": [
    "# Set the GPU device\n",
    "gpu_index = 4  # Change the index for each file (0 to 7)\n",
    "if gpu_index < torch.cuda.device_count():\n",
    "    torch.cuda.set_device(gpu_index)\n",
    "    device = torch.device(f\"cuda:{gpu_index}\")\n",
    "    print(f\"Using GPU {gpu_index}: {torch.cuda.get_device_name(gpu_index)}\")\n",
    "else:\n",
    "    print(f\"Invalid GPU index: {gpu_index}. Please choose an index between 0 and {torch.cuda.device_count() - 1}.\")\n"
   ]
  },
  {
   "cell_type": "markdown",
   "metadata": {
    "id": "BUMl7s8voBeV"
   },
   "source": [
    "#DATA PREPARATION"
   ]
  },
  {
   "cell_type": "markdown",
   "metadata": {
    "id": "TJbuuQUA85UK"
   },
   "source": [
    "##Get and Import dataset"
   ]
  },
  {
   "cell_type": "code",
   "execution_count": 8,
   "metadata": {
    "colab": {
     "base_uri": "https://localhost:8080/"
    },
    "id": "fIiDNJHkRDzv",
    "jupyter": {
     "source_hidden": true
    },
    "outputId": "6ccff296-2762-4393-c410-905b44130561"
   },
   "outputs": [
    {
     "name": "stdout",
     "output_type": "stream",
     "text": [
      "time: 4.02 ms (started: 2024-08-19 14:33:04 +07:00)\n"
     ]
    }
   ],
   "source": [
    "data_dir = '../data/ISIC_2019'\n",
    "\n",
    "training_input_zip = data_dir + '/ISIC_2019_Training_Input.zip'\n",
    "test_input_zip = data_dir + '/ISIC_2019_Test_Input.zip'\n",
    "\n",
    "training_Metadata = data_dir + '/ISIC_2019_Training_Metadata.csv'\n",
    "training_GroundTruth =  data_dir + '/ISIC_2019_Training_GroundTruth.csv'\n",
    "test_Metadata = data_dir + '/ISIC_2019_Test_Metadata.csv'\n",
    "\n",
    "# !unzip \"$training_input_zip\"\n",
    "# !unzip \"$test_input_zip\"\n",
    "\n",
    "training_input_dir = data_dir + '/ISIC_2019_Training_Input'\n",
    "test_input_dir = data_dir + '/ISIC_2019_Test_Input'"
   ]
  },
  {
   "cell_type": "markdown",
   "metadata": {
    "id": "zKiD5zp25pJq"
   },
   "source": [
    "###Meta-data"
   ]
  },
  {
   "cell_type": "code",
   "execution_count": 9,
   "metadata": {
    "colab": {
     "base_uri": "https://localhost:8080/",
     "height": 441
    },
    "id": "IDzPhlYQwoRv",
    "jupyter": {
     "source_hidden": true
    },
    "outputId": "db5d2bd9-6421-4f74-ae3f-b3de44b64230"
   },
   "outputs": [
    {
     "data": {
      "text/html": [
       "<div>\n",
       "<style scoped>\n",
       "    .dataframe tbody tr th:only-of-type {\n",
       "        vertical-align: middle;\n",
       "    }\n",
       "\n",
       "    .dataframe tbody tr th {\n",
       "        vertical-align: top;\n",
       "    }\n",
       "\n",
       "    .dataframe thead th {\n",
       "        text-align: right;\n",
       "    }\n",
       "</style>\n",
       "<table border=\"1\" class=\"dataframe\">\n",
       "  <thead>\n",
       "    <tr style=\"text-align: right;\">\n",
       "      <th></th>\n",
       "      <th>image</th>\n",
       "      <th>age_approx</th>\n",
       "      <th>anatom_site_general</th>\n",
       "      <th>lesion_id</th>\n",
       "      <th>sex</th>\n",
       "    </tr>\n",
       "  </thead>\n",
       "  <tbody>\n",
       "    <tr>\n",
       "      <th>0</th>\n",
       "      <td>ISIC_0000000</td>\n",
       "      <td>55.0</td>\n",
       "      <td>anterior torso</td>\n",
       "      <td>NaN</td>\n",
       "      <td>female</td>\n",
       "    </tr>\n",
       "    <tr>\n",
       "      <th>1</th>\n",
       "      <td>ISIC_0000001</td>\n",
       "      <td>30.0</td>\n",
       "      <td>anterior torso</td>\n",
       "      <td>NaN</td>\n",
       "      <td>female</td>\n",
       "    </tr>\n",
       "    <tr>\n",
       "      <th>2</th>\n",
       "      <td>ISIC_0000002</td>\n",
       "      <td>60.0</td>\n",
       "      <td>upper extremity</td>\n",
       "      <td>NaN</td>\n",
       "      <td>female</td>\n",
       "    </tr>\n",
       "    <tr>\n",
       "      <th>3</th>\n",
       "      <td>ISIC_0000003</td>\n",
       "      <td>30.0</td>\n",
       "      <td>upper extremity</td>\n",
       "      <td>NaN</td>\n",
       "      <td>male</td>\n",
       "    </tr>\n",
       "    <tr>\n",
       "      <th>4</th>\n",
       "      <td>ISIC_0000004</td>\n",
       "      <td>80.0</td>\n",
       "      <td>posterior torso</td>\n",
       "      <td>NaN</td>\n",
       "      <td>male</td>\n",
       "    </tr>\n",
       "    <tr>\n",
       "      <th>...</th>\n",
       "      <td>...</td>\n",
       "      <td>...</td>\n",
       "      <td>...</td>\n",
       "      <td>...</td>\n",
       "      <td>...</td>\n",
       "    </tr>\n",
       "    <tr>\n",
       "      <th>25326</th>\n",
       "      <td>ISIC_0073247</td>\n",
       "      <td>85.0</td>\n",
       "      <td>head/neck</td>\n",
       "      <td>BCN_0003925</td>\n",
       "      <td>female</td>\n",
       "    </tr>\n",
       "    <tr>\n",
       "      <th>25327</th>\n",
       "      <td>ISIC_0073248</td>\n",
       "      <td>65.0</td>\n",
       "      <td>anterior torso</td>\n",
       "      <td>BCN_0001819</td>\n",
       "      <td>male</td>\n",
       "    </tr>\n",
       "    <tr>\n",
       "      <th>25328</th>\n",
       "      <td>ISIC_0073249</td>\n",
       "      <td>70.0</td>\n",
       "      <td>lower extremity</td>\n",
       "      <td>BCN_0001085</td>\n",
       "      <td>male</td>\n",
       "    </tr>\n",
       "    <tr>\n",
       "      <th>25329</th>\n",
       "      <td>ISIC_0073251</td>\n",
       "      <td>55.0</td>\n",
       "      <td>palms/soles</td>\n",
       "      <td>BCN_0002083</td>\n",
       "      <td>female</td>\n",
       "    </tr>\n",
       "    <tr>\n",
       "      <th>25330</th>\n",
       "      <td>ISIC_0073254</td>\n",
       "      <td>50.0</td>\n",
       "      <td>upper extremity</td>\n",
       "      <td>BCN_0001079</td>\n",
       "      <td>male</td>\n",
       "    </tr>\n",
       "  </tbody>\n",
       "</table>\n",
       "<p>25331 rows × 5 columns</p>\n",
       "</div>"
      ],
      "text/plain": [
       "              image  age_approx anatom_site_general    lesion_id     sex\n",
       "0      ISIC_0000000        55.0      anterior torso          NaN  female\n",
       "1      ISIC_0000001        30.0      anterior torso          NaN  female\n",
       "2      ISIC_0000002        60.0     upper extremity          NaN  female\n",
       "3      ISIC_0000003        30.0     upper extremity          NaN    male\n",
       "4      ISIC_0000004        80.0     posterior torso          NaN    male\n",
       "...             ...         ...                 ...          ...     ...\n",
       "25326  ISIC_0073247        85.0           head/neck  BCN_0003925  female\n",
       "25327  ISIC_0073248        65.0      anterior torso  BCN_0001819    male\n",
       "25328  ISIC_0073249        70.0     lower extremity  BCN_0001085    male\n",
       "25329  ISIC_0073251        55.0         palms/soles  BCN_0002083  female\n",
       "25330  ISIC_0073254        50.0     upper extremity  BCN_0001079    male\n",
       "\n",
       "[25331 rows x 5 columns]"
      ]
     },
     "execution_count": 9,
     "metadata": {},
     "output_type": "execute_result"
    },
    {
     "name": "stdout",
     "output_type": "stream",
     "text": [
      "time: 167 ms (started: 2024-08-19 14:33:04 +07:00)\n"
     ]
    }
   ],
   "source": [
    "train_metadata=pd.read_csv(training_Metadata)\n",
    "train_metadata"
   ]
  },
  {
   "cell_type": "code",
   "execution_count": 10,
   "metadata": {
    "colab": {
     "base_uri": "https://localhost:8080/",
     "height": 441
    },
    "id": "LwrDk0xUwtAJ",
    "jupyter": {
     "source_hidden": true
    },
    "outputId": "0c7875af-bc55-4b3f-8e46-5ff32d3b5d78"
   },
   "outputs": [
    {
     "data": {
      "text/html": [
       "<div>\n",
       "<style scoped>\n",
       "    .dataframe tbody tr th:only-of-type {\n",
       "        vertical-align: middle;\n",
       "    }\n",
       "\n",
       "    .dataframe tbody tr th {\n",
       "        vertical-align: top;\n",
       "    }\n",
       "\n",
       "    .dataframe thead th {\n",
       "        text-align: right;\n",
       "    }\n",
       "</style>\n",
       "<table border=\"1\" class=\"dataframe\">\n",
       "  <thead>\n",
       "    <tr style=\"text-align: right;\">\n",
       "      <th></th>\n",
       "      <th>image</th>\n",
       "      <th>MEL</th>\n",
       "      <th>NV</th>\n",
       "      <th>BCC</th>\n",
       "      <th>AK</th>\n",
       "      <th>BKL</th>\n",
       "      <th>DF</th>\n",
       "      <th>VASC</th>\n",
       "      <th>SCC</th>\n",
       "      <th>UNK</th>\n",
       "    </tr>\n",
       "  </thead>\n",
       "  <tbody>\n",
       "    <tr>\n",
       "      <th>0</th>\n",
       "      <td>ISIC_0000000</td>\n",
       "      <td>0.0</td>\n",
       "      <td>1.0</td>\n",
       "      <td>0.0</td>\n",
       "      <td>0.0</td>\n",
       "      <td>0.0</td>\n",
       "      <td>0.0</td>\n",
       "      <td>0.0</td>\n",
       "      <td>0.0</td>\n",
       "      <td>0.0</td>\n",
       "    </tr>\n",
       "    <tr>\n",
       "      <th>1</th>\n",
       "      <td>ISIC_0000001</td>\n",
       "      <td>0.0</td>\n",
       "      <td>1.0</td>\n",
       "      <td>0.0</td>\n",
       "      <td>0.0</td>\n",
       "      <td>0.0</td>\n",
       "      <td>0.0</td>\n",
       "      <td>0.0</td>\n",
       "      <td>0.0</td>\n",
       "      <td>0.0</td>\n",
       "    </tr>\n",
       "    <tr>\n",
       "      <th>2</th>\n",
       "      <td>ISIC_0000002</td>\n",
       "      <td>1.0</td>\n",
       "      <td>0.0</td>\n",
       "      <td>0.0</td>\n",
       "      <td>0.0</td>\n",
       "      <td>0.0</td>\n",
       "      <td>0.0</td>\n",
       "      <td>0.0</td>\n",
       "      <td>0.0</td>\n",
       "      <td>0.0</td>\n",
       "    </tr>\n",
       "    <tr>\n",
       "      <th>3</th>\n",
       "      <td>ISIC_0000003</td>\n",
       "      <td>0.0</td>\n",
       "      <td>1.0</td>\n",
       "      <td>0.0</td>\n",
       "      <td>0.0</td>\n",
       "      <td>0.0</td>\n",
       "      <td>0.0</td>\n",
       "      <td>0.0</td>\n",
       "      <td>0.0</td>\n",
       "      <td>0.0</td>\n",
       "    </tr>\n",
       "    <tr>\n",
       "      <th>4</th>\n",
       "      <td>ISIC_0000004</td>\n",
       "      <td>1.0</td>\n",
       "      <td>0.0</td>\n",
       "      <td>0.0</td>\n",
       "      <td>0.0</td>\n",
       "      <td>0.0</td>\n",
       "      <td>0.0</td>\n",
       "      <td>0.0</td>\n",
       "      <td>0.0</td>\n",
       "      <td>0.0</td>\n",
       "    </tr>\n",
       "    <tr>\n",
       "      <th>...</th>\n",
       "      <td>...</td>\n",
       "      <td>...</td>\n",
       "      <td>...</td>\n",
       "      <td>...</td>\n",
       "      <td>...</td>\n",
       "      <td>...</td>\n",
       "      <td>...</td>\n",
       "      <td>...</td>\n",
       "      <td>...</td>\n",
       "      <td>...</td>\n",
       "    </tr>\n",
       "    <tr>\n",
       "      <th>25326</th>\n",
       "      <td>ISIC_0073247</td>\n",
       "      <td>0.0</td>\n",
       "      <td>0.0</td>\n",
       "      <td>1.0</td>\n",
       "      <td>0.0</td>\n",
       "      <td>0.0</td>\n",
       "      <td>0.0</td>\n",
       "      <td>0.0</td>\n",
       "      <td>0.0</td>\n",
       "      <td>0.0</td>\n",
       "    </tr>\n",
       "    <tr>\n",
       "      <th>25327</th>\n",
       "      <td>ISIC_0073248</td>\n",
       "      <td>0.0</td>\n",
       "      <td>0.0</td>\n",
       "      <td>0.0</td>\n",
       "      <td>0.0</td>\n",
       "      <td>1.0</td>\n",
       "      <td>0.0</td>\n",
       "      <td>0.0</td>\n",
       "      <td>0.0</td>\n",
       "      <td>0.0</td>\n",
       "    </tr>\n",
       "    <tr>\n",
       "      <th>25328</th>\n",
       "      <td>ISIC_0073249</td>\n",
       "      <td>1.0</td>\n",
       "      <td>0.0</td>\n",
       "      <td>0.0</td>\n",
       "      <td>0.0</td>\n",
       "      <td>0.0</td>\n",
       "      <td>0.0</td>\n",
       "      <td>0.0</td>\n",
       "      <td>0.0</td>\n",
       "      <td>0.0</td>\n",
       "    </tr>\n",
       "    <tr>\n",
       "      <th>25329</th>\n",
       "      <td>ISIC_0073251</td>\n",
       "      <td>0.0</td>\n",
       "      <td>1.0</td>\n",
       "      <td>0.0</td>\n",
       "      <td>0.0</td>\n",
       "      <td>0.0</td>\n",
       "      <td>0.0</td>\n",
       "      <td>0.0</td>\n",
       "      <td>0.0</td>\n",
       "      <td>0.0</td>\n",
       "    </tr>\n",
       "    <tr>\n",
       "      <th>25330</th>\n",
       "      <td>ISIC_0073254</td>\n",
       "      <td>0.0</td>\n",
       "      <td>0.0</td>\n",
       "      <td>0.0</td>\n",
       "      <td>0.0</td>\n",
       "      <td>1.0</td>\n",
       "      <td>0.0</td>\n",
       "      <td>0.0</td>\n",
       "      <td>0.0</td>\n",
       "      <td>0.0</td>\n",
       "    </tr>\n",
       "  </tbody>\n",
       "</table>\n",
       "<p>25331 rows × 10 columns</p>\n",
       "</div>"
      ],
      "text/plain": [
       "              image  MEL   NV  BCC   AK  BKL   DF  VASC  SCC  UNK\n",
       "0      ISIC_0000000  0.0  1.0  0.0  0.0  0.0  0.0   0.0  0.0  0.0\n",
       "1      ISIC_0000001  0.0  1.0  0.0  0.0  0.0  0.0   0.0  0.0  0.0\n",
       "2      ISIC_0000002  1.0  0.0  0.0  0.0  0.0  0.0   0.0  0.0  0.0\n",
       "3      ISIC_0000003  0.0  1.0  0.0  0.0  0.0  0.0   0.0  0.0  0.0\n",
       "4      ISIC_0000004  1.0  0.0  0.0  0.0  0.0  0.0   0.0  0.0  0.0\n",
       "...             ...  ...  ...  ...  ...  ...  ...   ...  ...  ...\n",
       "25326  ISIC_0073247  0.0  0.0  1.0  0.0  0.0  0.0   0.0  0.0  0.0\n",
       "25327  ISIC_0073248  0.0  0.0  0.0  0.0  1.0  0.0   0.0  0.0  0.0\n",
       "25328  ISIC_0073249  1.0  0.0  0.0  0.0  0.0  0.0   0.0  0.0  0.0\n",
       "25329  ISIC_0073251  0.0  1.0  0.0  0.0  0.0  0.0   0.0  0.0  0.0\n",
       "25330  ISIC_0073254  0.0  0.0  0.0  0.0  1.0  0.0   0.0  0.0  0.0\n",
       "\n",
       "[25331 rows x 10 columns]"
      ]
     },
     "execution_count": 10,
     "metadata": {},
     "output_type": "execute_result"
    },
    {
     "name": "stdout",
     "output_type": "stream",
     "text": [
      "time: 149 ms (started: 2024-08-19 14:33:04 +07:00)\n"
     ]
    }
   ],
   "source": [
    "train_groundtruth=pd.read_csv(training_GroundTruth)\n",
    "# # Drop the 'UNK' column\n",
    "# train_groundtruth = train_groundtruth.drop(columns=['UNK'])\n",
    "train_groundtruth"
   ]
  },
  {
   "cell_type": "code",
   "execution_count": 11,
   "metadata": {
    "colab": {
     "base_uri": "https://localhost:8080/",
     "height": 441
    },
    "id": "78diyBUbWl6W",
    "jupyter": {
     "source_hidden": true
    },
    "outputId": "1f5e595f-f4fe-4f9f-9479-d5826aee1983"
   },
   "outputs": [
    {
     "data": {
      "text/html": [
       "<div>\n",
       "<style scoped>\n",
       "    .dataframe tbody tr th:only-of-type {\n",
       "        vertical-align: middle;\n",
       "    }\n",
       "\n",
       "    .dataframe tbody tr th {\n",
       "        vertical-align: top;\n",
       "    }\n",
       "\n",
       "    .dataframe thead th {\n",
       "        text-align: right;\n",
       "    }\n",
       "</style>\n",
       "<table border=\"1\" class=\"dataframe\">\n",
       "  <thead>\n",
       "    <tr style=\"text-align: right;\">\n",
       "      <th></th>\n",
       "      <th>image</th>\n",
       "      <th>age_approx</th>\n",
       "      <th>anatom_site_general</th>\n",
       "      <th>sex</th>\n",
       "    </tr>\n",
       "  </thead>\n",
       "  <tbody>\n",
       "    <tr>\n",
       "      <th>0</th>\n",
       "      <td>ISIC_0034321</td>\n",
       "      <td>60.0</td>\n",
       "      <td>NaN</td>\n",
       "      <td>female</td>\n",
       "    </tr>\n",
       "    <tr>\n",
       "      <th>1</th>\n",
       "      <td>ISIC_0034322</td>\n",
       "      <td>70.0</td>\n",
       "      <td>anterior torso</td>\n",
       "      <td>male</td>\n",
       "    </tr>\n",
       "    <tr>\n",
       "      <th>2</th>\n",
       "      <td>ISIC_0034323</td>\n",
       "      <td>70.0</td>\n",
       "      <td>lower extremity</td>\n",
       "      <td>male</td>\n",
       "    </tr>\n",
       "    <tr>\n",
       "      <th>3</th>\n",
       "      <td>ISIC_0034324</td>\n",
       "      <td>70.0</td>\n",
       "      <td>lower extremity</td>\n",
       "      <td>male</td>\n",
       "    </tr>\n",
       "    <tr>\n",
       "      <th>4</th>\n",
       "      <td>ISIC_0034325</td>\n",
       "      <td>30.0</td>\n",
       "      <td>upper extremity</td>\n",
       "      <td>female</td>\n",
       "    </tr>\n",
       "    <tr>\n",
       "      <th>...</th>\n",
       "      <td>...</td>\n",
       "      <td>...</td>\n",
       "      <td>...</td>\n",
       "      <td>...</td>\n",
       "    </tr>\n",
       "    <tr>\n",
       "      <th>8233</th>\n",
       "      <td>ISIC_0073236</td>\n",
       "      <td>75.0</td>\n",
       "      <td>anterior torso</td>\n",
       "      <td>male</td>\n",
       "    </tr>\n",
       "    <tr>\n",
       "      <th>8234</th>\n",
       "      <td>ISIC_0073243</td>\n",
       "      <td>65.0</td>\n",
       "      <td>lower extremity</td>\n",
       "      <td>male</td>\n",
       "    </tr>\n",
       "    <tr>\n",
       "      <th>8235</th>\n",
       "      <td>ISIC_0073250</td>\n",
       "      <td>30.0</td>\n",
       "      <td>anterior torso</td>\n",
       "      <td>female</td>\n",
       "    </tr>\n",
       "    <tr>\n",
       "      <th>8236</th>\n",
       "      <td>ISIC_0073252</td>\n",
       "      <td>85.0</td>\n",
       "      <td>head/neck</td>\n",
       "      <td>female</td>\n",
       "    </tr>\n",
       "    <tr>\n",
       "      <th>8237</th>\n",
       "      <td>ISIC_0073253</td>\n",
       "      <td>70.0</td>\n",
       "      <td>anterior torso</td>\n",
       "      <td>male</td>\n",
       "    </tr>\n",
       "  </tbody>\n",
       "</table>\n",
       "<p>8238 rows × 4 columns</p>\n",
       "</div>"
      ],
      "text/plain": [
       "             image  age_approx anatom_site_general     sex\n",
       "0     ISIC_0034321        60.0                 NaN  female\n",
       "1     ISIC_0034322        70.0      anterior torso    male\n",
       "2     ISIC_0034323        70.0     lower extremity    male\n",
       "3     ISIC_0034324        70.0     lower extremity    male\n",
       "4     ISIC_0034325        30.0     upper extremity  female\n",
       "...            ...         ...                 ...     ...\n",
       "8233  ISIC_0073236        75.0      anterior torso    male\n",
       "8234  ISIC_0073243        65.0     lower extremity    male\n",
       "8235  ISIC_0073250        30.0      anterior torso  female\n",
       "8236  ISIC_0073252        85.0           head/neck  female\n",
       "8237  ISIC_0073253        70.0      anterior torso    male\n",
       "\n",
       "[8238 rows x 4 columns]"
      ]
     },
     "execution_count": 11,
     "metadata": {},
     "output_type": "execute_result"
    },
    {
     "name": "stdout",
     "output_type": "stream",
     "text": [
      "time: 56.3 ms (started: 2024-08-19 14:33:04 +07:00)\n"
     ]
    }
   ],
   "source": [
    "test_metadata=pd.read_csv(test_Metadata)\n",
    "test_metadata"
   ]
  },
  {
   "cell_type": "markdown",
   "metadata": {
    "id": "N4CsGe2y5tbK"
   },
   "source": [
    "###Meta-data information"
   ]
  },
  {
   "cell_type": "code",
   "execution_count": 12,
   "metadata": {
    "colab": {
     "base_uri": "https://localhost:8080/"
    },
    "id": "OzqCMNfaxL-V",
    "jupyter": {
     "source_hidden": true
    },
    "outputId": "ad375b5a-cdc4-42ae-ebcd-b0aa5121b95c"
   },
   "outputs": [
    {
     "name": "stdout",
     "output_type": "stream",
     "text": [
      "<class 'pandas.core.frame.DataFrame'>\n",
      "RangeIndex: 25331 entries, 0 to 25330\n",
      "Data columns (total 5 columns):\n",
      " #   Column               Non-Null Count  Dtype  \n",
      "---  ------               --------------  -----  \n",
      " 0   image                25331 non-null  object \n",
      " 1   age_approx           24894 non-null  float64\n",
      " 2   anatom_site_general  22700 non-null  object \n",
      " 3   lesion_id            23247 non-null  object \n",
      " 4   sex                  24947 non-null  object \n",
      "dtypes: float64(1), object(4)\n",
      "memory usage: 989.6+ KB\n",
      "time: 39.4 ms (started: 2024-08-19 14:33:04 +07:00)\n"
     ]
    }
   ],
   "source": [
    "train_metadata.info()"
   ]
  },
  {
   "cell_type": "code",
   "execution_count": 13,
   "metadata": {
    "colab": {
     "base_uri": "https://localhost:8080/"
    },
    "id": "5SHizURlXHif",
    "jupyter": {
     "source_hidden": true
    },
    "outputId": "18076c47-8bc6-43fa-f29b-6a1053195816"
   },
   "outputs": [
    {
     "name": "stdout",
     "output_type": "stream",
     "text": [
      "<class 'pandas.core.frame.DataFrame'>\n",
      "RangeIndex: 25331 entries, 0 to 25330\n",
      "Data columns (total 10 columns):\n",
      " #   Column  Non-Null Count  Dtype  \n",
      "---  ------  --------------  -----  \n",
      " 0   image   25331 non-null  object \n",
      " 1   MEL     25331 non-null  float64\n",
      " 2   NV      25331 non-null  float64\n",
      " 3   BCC     25331 non-null  float64\n",
      " 4   AK      25331 non-null  float64\n",
      " 5   BKL     25331 non-null  float64\n",
      " 6   DF      25331 non-null  float64\n",
      " 7   VASC    25331 non-null  float64\n",
      " 8   SCC     25331 non-null  float64\n",
      " 9   UNK     25331 non-null  float64\n",
      "dtypes: float64(9), object(1)\n",
      "memory usage: 1.9+ MB\n",
      "time: 16.2 ms (started: 2024-08-19 14:33:04 +07:00)\n"
     ]
    }
   ],
   "source": [
    "train_groundtruth.info()"
   ]
  },
  {
   "cell_type": "code",
   "execution_count": 14,
   "metadata": {
    "colab": {
     "base_uri": "https://localhost:8080/"
    },
    "id": "-7IUHYnyXLo3",
    "jupyter": {
     "source_hidden": true
    },
    "outputId": "674a41a5-4859-4fcf-97ba-5b6fd5f46986"
   },
   "outputs": [
    {
     "name": "stdout",
     "output_type": "stream",
     "text": [
      "<class 'pandas.core.frame.DataFrame'>\n",
      "RangeIndex: 8238 entries, 0 to 8237\n",
      "Data columns (total 4 columns):\n",
      " #   Column               Non-Null Count  Dtype  \n",
      "---  ------               --------------  -----  \n",
      " 0   image                8238 non-null   object \n",
      " 1   age_approx           7912 non-null   float64\n",
      " 2   anatom_site_general  7583 non-null   object \n",
      " 3   sex                  7899 non-null   object \n",
      "dtypes: float64(1), object(3)\n",
      "memory usage: 257.6+ KB\n",
      "time: 35.6 ms (started: 2024-08-19 14:33:04 +07:00)\n"
     ]
    }
   ],
   "source": [
    "test_metadata.info()"
   ]
  },
  {
   "cell_type": "markdown",
   "metadata": {
    "id": "0WE-nwYqFT21"
   },
   "source": [
    "##DATA PREPROCESSING"
   ]
  },
  {
   "cell_type": "markdown",
   "metadata": {
    "id": "MU1lRQZ0G7l5"
   },
   "source": [
    "###Original data information"
   ]
  },
  {
   "cell_type": "code",
   "execution_count": 15,
   "metadata": {
    "colab": {
     "base_uri": "https://localhost:8080/"
    },
    "id": "x8-sFnNGFNMY",
    "jupyter": {
     "source_hidden": true
    },
    "outputId": "c16ebd8a-0dd4-48da-a867-f1dc342ca49e"
   },
   "outputs": [
    {
     "name": "stdout",
     "output_type": "stream",
     "text": [
      "<class 'pandas.core.frame.DataFrame'>\n",
      "RangeIndex: 25331 entries, 0 to 25330\n",
      "Data columns (total 5 columns):\n",
      " #   Column               Non-Null Count  Dtype  \n",
      "---  ------               --------------  -----  \n",
      " 0   image                25331 non-null  object \n",
      " 1   age_approx           24894 non-null  float64\n",
      " 2   anatom_site_general  22700 non-null  object \n",
      " 3   lesion_id            23247 non-null  object \n",
      " 4   sex                  24947 non-null  object \n",
      "dtypes: float64(1), object(4)\n",
      "memory usage: 989.6+ KB\n",
      "\n",
      "Index(['image', 'age_approx', 'anatom_site_general', 'lesion_id', 'sex'], dtype='object')\n",
      "time: 25.4 ms (started: 2024-08-19 14:33:04 +07:00)\n"
     ]
    }
   ],
   "source": [
    "train_metadata.info()\n",
    "print()\n",
    "# train_metadata.head()\n",
    "print(train_metadata.columns)"
   ]
  },
  {
   "cell_type": "markdown",
   "metadata": {
    "id": "LczxTmecbOTA"
   },
   "source": [
    "###Data cleansing"
   ]
  },
  {
   "cell_type": "markdown",
   "metadata": {
    "id": "6W-bnNS4bK8P"
   },
   "source": [
    "identifying and correcting errors or inconsistencies in the data."
   ]
  },
  {
   "cell_type": "code",
   "execution_count": 16,
   "metadata": {
    "colab": {
     "base_uri": "https://localhost:8080/"
    },
    "id": "9LgcdiAmbWYm",
    "jupyter": {
     "source_hidden": true
    },
    "outputId": "30998225-cf0c-46fa-90fc-ba40c25cf46a"
   },
   "outputs": [
    {
     "name": "stdout",
     "output_type": "stream",
     "text": [
      "Index(['image', 'age_approx', 'anatom_site_general', 'lesion_id', 'sex',\n",
      "       'disease_type', 'presence'],\n",
      "      dtype='object')\n",
      "time: 186 ms (started: 2024-08-19 14:33:04 +07:00)\n"
     ]
    }
   ],
   "source": [
    "# Convert the train_groundtruth DataFrame from wide format to long format\n",
    "melted_groundtruth = train_groundtruth.melt(id_vars='image', var_name='disease_type', value_name='presence')\n",
    "\n",
    "\n",
    "# THIS LINE REMOVE UNK COLUMN\n",
    "# Filter out rows where presence is 0 (i.e., the disease type is not present)\n",
    "filtered_groundtruth = melted_groundtruth[melted_groundtruth['presence'] == 1]\n",
    "\n",
    "# Merge the train_metadata and filtered_groundtruth DataFrames on the 'image' column\n",
    "combined_train_df = pd.merge(train_metadata, filtered_groundtruth, on='image')\n",
    "\n",
    "print(combined_train_df.columns)"
   ]
  },
  {
   "cell_type": "code",
   "execution_count": 17,
   "metadata": {
    "colab": {
     "base_uri": "https://localhost:8080/"
    },
    "id": "BVhwLHAPFb-W",
    "jupyter": {
     "source_hidden": true
    },
    "outputId": "16e2e35a-1c29-4d20-8578-aaf234fb17dc"
   },
   "outputs": [
    {
     "name": "stdout",
     "output_type": "stream",
     "text": [
      "time: 135 ms (started: 2024-08-19 14:33:04 +07:00)\n"
     ]
    }
   ],
   "source": [
    "# Removing duplicate rows\n",
    "train_metadata_pp = combined_train_df.drop_duplicates()\n",
    "\n",
    "# Removing rows with missing values\n",
    "train_metadata_pp = train_metadata_pp.dropna()\n",
    "\n",
    "# Replace missing values in 'age' column with median age\n",
    "median_age = train_metadata_pp['age_approx'].median()\n",
    "train_metadata_pp['age_approx'] = train_metadata_pp['age_approx'].fillna(median_age)\n",
    "\n",
    "# Fixing column names\n",
    "train_metadata_pp = train_metadata_pp.rename(columns={\n",
    "    'image': 'Image_Id',\n",
    "    'age_approx': 'Age',\n",
    "    'anatom_site_general': 'Region_Of_Disease',\n",
    "    'lesion_id': 'Lesion_Id',\n",
    "    'sex': 'Sex',\n",
    "    'disease_type': 'Disease_Type',\n",
    "    'presence': 'Presence'\n",
    "})\n",
    "\n",
    "# Define the mapping of current values to new values\n",
    "diagnosis_mapping = {\n",
    "    'MEL': 'Melanoma',\n",
    "    'NV': 'Melanocytic Nevi',\n",
    "    'BCC': 'Basal Cell Carcinoma',\n",
    "    'AK': 'Actinic Keratoses',\n",
    "    'BKL': 'Benign Keratosis-Like Lesions',\n",
    "    'DF': 'Dermatofibroma',\n",
    "    'VASC': 'Vascular Lesions',\n",
    "    'SCC': 'Squamous Cell Carcinoma',\n",
    "    'UNK': 'Unknown'\n",
    "}\n",
    "\n",
    "# Convert the Age column to integers\n",
    "train_metadata_pp['Age'] = train_metadata_pp['Age'].astype(int)\n",
    "\n",
    "# Create a new column with the updated diagnosis names\n",
    "train_metadata_pp['Diagnosis'] = train_metadata_pp['Disease_Type'].map(diagnosis_mapping)"
   ]
  },
  {
   "cell_type": "code",
   "execution_count": 18,
   "metadata": {
    "colab": {
     "base_uri": "https://localhost:8080/"
    },
    "id": "7yYi-mP1b7hv",
    "jupyter": {
     "source_hidden": true
    },
    "outputId": "271cec17-7b0c-4c25-b386-214519d994bd"
   },
   "outputs": [
    {
     "name": "stdout",
     "output_type": "stream",
     "text": [
      "<class 'pandas.core.frame.DataFrame'>\n",
      "Index: 21311 entries, 1459 to 25330\n",
      "Data columns (total 8 columns):\n",
      " #   Column             Non-Null Count  Dtype  \n",
      "---  ------             --------------  -----  \n",
      " 0   Image_Id           21311 non-null  object \n",
      " 1   Age                21311 non-null  int64  \n",
      " 2   Region_Of_Disease  21311 non-null  object \n",
      " 3   Lesion_Id          21311 non-null  object \n",
      " 4   Sex                21311 non-null  object \n",
      " 5   Disease_Type       21311 non-null  object \n",
      " 6   Presence           21311 non-null  float64\n",
      " 7   Diagnosis          21311 non-null  object \n",
      "dtypes: float64(1), int64(1), object(6)\n",
      "memory usage: 1.5+ MB\n",
      "\n"
     ]
    },
    {
     "data": {
      "text/html": [
       "<div>\n",
       "<style scoped>\n",
       "    .dataframe tbody tr th:only-of-type {\n",
       "        vertical-align: middle;\n",
       "    }\n",
       "\n",
       "    .dataframe tbody tr th {\n",
       "        vertical-align: top;\n",
       "    }\n",
       "\n",
       "    .dataframe thead th {\n",
       "        text-align: right;\n",
       "    }\n",
       "</style>\n",
       "<table border=\"1\" class=\"dataframe\">\n",
       "  <thead>\n",
       "    <tr style=\"text-align: right;\">\n",
       "      <th></th>\n",
       "      <th>Image_Id</th>\n",
       "      <th>Age</th>\n",
       "      <th>Region_Of_Disease</th>\n",
       "      <th>Lesion_Id</th>\n",
       "      <th>Sex</th>\n",
       "      <th>Disease_Type</th>\n",
       "      <th>Presence</th>\n",
       "      <th>Diagnosis</th>\n",
       "    </tr>\n",
       "  </thead>\n",
       "  <tbody>\n",
       "    <tr>\n",
       "      <th>1459</th>\n",
       "      <td>ISIC_0012653_downsampled</td>\n",
       "      <td>50</td>\n",
       "      <td>posterior torso</td>\n",
       "      <td>MSK4_0011169</td>\n",
       "      <td>female</td>\n",
       "      <td>NV</td>\n",
       "      <td>1.0</td>\n",
       "      <td>Melanocytic Nevi</td>\n",
       "    </tr>\n",
       "    <tr>\n",
       "      <th>1460</th>\n",
       "      <td>ISIC_0012654_downsampled</td>\n",
       "      <td>30</td>\n",
       "      <td>lower extremity</td>\n",
       "      <td>MSK4_0011170</td>\n",
       "      <td>female</td>\n",
       "      <td>NV</td>\n",
       "      <td>1.0</td>\n",
       "      <td>Melanocytic Nevi</td>\n",
       "    </tr>\n",
       "    <tr>\n",
       "      <th>1461</th>\n",
       "      <td>ISIC_0012655_downsampled</td>\n",
       "      <td>35</td>\n",
       "      <td>upper extremity</td>\n",
       "      <td>MSK4_0011171</td>\n",
       "      <td>female</td>\n",
       "      <td>NV</td>\n",
       "      <td>1.0</td>\n",
       "      <td>Melanocytic Nevi</td>\n",
       "    </tr>\n",
       "    <tr>\n",
       "      <th>1462</th>\n",
       "      <td>ISIC_0012656_downsampled</td>\n",
       "      <td>45</td>\n",
       "      <td>posterior torso</td>\n",
       "      <td>MSK4_0011172</td>\n",
       "      <td>male</td>\n",
       "      <td>NV</td>\n",
       "      <td>1.0</td>\n",
       "      <td>Melanocytic Nevi</td>\n",
       "    </tr>\n",
       "    <tr>\n",
       "      <th>1463</th>\n",
       "      <td>ISIC_0012657_downsampled</td>\n",
       "      <td>20</td>\n",
       "      <td>upper extremity</td>\n",
       "      <td>MSK4_0011173</td>\n",
       "      <td>female</td>\n",
       "      <td>NV</td>\n",
       "      <td>1.0</td>\n",
       "      <td>Melanocytic Nevi</td>\n",
       "    </tr>\n",
       "    <tr>\n",
       "      <th>...</th>\n",
       "      <td>...</td>\n",
       "      <td>...</td>\n",
       "      <td>...</td>\n",
       "      <td>...</td>\n",
       "      <td>...</td>\n",
       "      <td>...</td>\n",
       "      <td>...</td>\n",
       "      <td>...</td>\n",
       "    </tr>\n",
       "    <tr>\n",
       "      <th>25326</th>\n",
       "      <td>ISIC_0073247</td>\n",
       "      <td>85</td>\n",
       "      <td>head/neck</td>\n",
       "      <td>BCN_0003925</td>\n",
       "      <td>female</td>\n",
       "      <td>BCC</td>\n",
       "      <td>1.0</td>\n",
       "      <td>Basal Cell Carcinoma</td>\n",
       "    </tr>\n",
       "    <tr>\n",
       "      <th>25327</th>\n",
       "      <td>ISIC_0073248</td>\n",
       "      <td>65</td>\n",
       "      <td>anterior torso</td>\n",
       "      <td>BCN_0001819</td>\n",
       "      <td>male</td>\n",
       "      <td>BKL</td>\n",
       "      <td>1.0</td>\n",
       "      <td>Benign Keratosis-Like Lesions</td>\n",
       "    </tr>\n",
       "    <tr>\n",
       "      <th>25328</th>\n",
       "      <td>ISIC_0073249</td>\n",
       "      <td>70</td>\n",
       "      <td>lower extremity</td>\n",
       "      <td>BCN_0001085</td>\n",
       "      <td>male</td>\n",
       "      <td>MEL</td>\n",
       "      <td>1.0</td>\n",
       "      <td>Melanoma</td>\n",
       "    </tr>\n",
       "    <tr>\n",
       "      <th>25329</th>\n",
       "      <td>ISIC_0073251</td>\n",
       "      <td>55</td>\n",
       "      <td>palms/soles</td>\n",
       "      <td>BCN_0002083</td>\n",
       "      <td>female</td>\n",
       "      <td>NV</td>\n",
       "      <td>1.0</td>\n",
       "      <td>Melanocytic Nevi</td>\n",
       "    </tr>\n",
       "    <tr>\n",
       "      <th>25330</th>\n",
       "      <td>ISIC_0073254</td>\n",
       "      <td>50</td>\n",
       "      <td>upper extremity</td>\n",
       "      <td>BCN_0001079</td>\n",
       "      <td>male</td>\n",
       "      <td>BKL</td>\n",
       "      <td>1.0</td>\n",
       "      <td>Benign Keratosis-Like Lesions</td>\n",
       "    </tr>\n",
       "  </tbody>\n",
       "</table>\n",
       "<p>21311 rows × 8 columns</p>\n",
       "</div>"
      ],
      "text/plain": [
       "                       Image_Id  Age Region_Of_Disease     Lesion_Id     Sex  \\\n",
       "1459   ISIC_0012653_downsampled   50   posterior torso  MSK4_0011169  female   \n",
       "1460   ISIC_0012654_downsampled   30   lower extremity  MSK4_0011170  female   \n",
       "1461   ISIC_0012655_downsampled   35   upper extremity  MSK4_0011171  female   \n",
       "1462   ISIC_0012656_downsampled   45   posterior torso  MSK4_0011172    male   \n",
       "1463   ISIC_0012657_downsampled   20   upper extremity  MSK4_0011173  female   \n",
       "...                         ...  ...               ...           ...     ...   \n",
       "25326              ISIC_0073247   85         head/neck   BCN_0003925  female   \n",
       "25327              ISIC_0073248   65    anterior torso   BCN_0001819    male   \n",
       "25328              ISIC_0073249   70   lower extremity   BCN_0001085    male   \n",
       "25329              ISIC_0073251   55       palms/soles   BCN_0002083  female   \n",
       "25330              ISIC_0073254   50   upper extremity   BCN_0001079    male   \n",
       "\n",
       "      Disease_Type  Presence                      Diagnosis  \n",
       "1459            NV       1.0               Melanocytic Nevi  \n",
       "1460            NV       1.0               Melanocytic Nevi  \n",
       "1461            NV       1.0               Melanocytic Nevi  \n",
       "1462            NV       1.0               Melanocytic Nevi  \n",
       "1463            NV       1.0               Melanocytic Nevi  \n",
       "...            ...       ...                            ...  \n",
       "25326          BCC       1.0           Basal Cell Carcinoma  \n",
       "25327          BKL       1.0  Benign Keratosis-Like Lesions  \n",
       "25328          MEL       1.0                       Melanoma  \n",
       "25329           NV       1.0               Melanocytic Nevi  \n",
       "25330          BKL       1.0  Benign Keratosis-Like Lesions  \n",
       "\n",
       "[21311 rows x 8 columns]"
      ]
     },
     "execution_count": 18,
     "metadata": {},
     "output_type": "execute_result"
    },
    {
     "name": "stdout",
     "output_type": "stream",
     "text": [
      "time: 62.6 ms (started: 2024-08-19 14:33:05 +07:00)\n"
     ]
    }
   ],
   "source": [
    "train_metadata_pp.info()\n",
    "print()\n",
    "train_metadata_pp"
   ]
  },
  {
   "cell_type": "markdown",
   "metadata": {
    "id": "mHobivlPcOXU"
   },
   "source": [
    "###Get images data"
   ]
  },
  {
   "cell_type": "markdown",
   "metadata": {
    "id": "KzDeOIBycYkC"
   },
   "source": [
    "finish preprocessing"
   ]
  },
  {
   "cell_type": "code",
   "execution_count": 19,
   "metadata": {
    "colab": {
     "base_uri": "https://localhost:8080/",
     "height": 475
    },
    "id": "cq7iW4ZFQre9",
    "jupyter": {
     "source_hidden": true
    },
    "outputId": "cef32cde-2590-4ab3-c3cf-52771e4e482c"
   },
   "outputs": [
    {
     "data": {
      "text/html": [
       "<div>\n",
       "<style scoped>\n",
       "    .dataframe tbody tr th:only-of-type {\n",
       "        vertical-align: middle;\n",
       "    }\n",
       "\n",
       "    .dataframe tbody tr th {\n",
       "        vertical-align: top;\n",
       "    }\n",
       "\n",
       "    .dataframe thead th {\n",
       "        text-align: right;\n",
       "    }\n",
       "</style>\n",
       "<table border=\"1\" class=\"dataframe\">\n",
       "  <thead>\n",
       "    <tr style=\"text-align: right;\">\n",
       "      <th></th>\n",
       "      <th>Image_Id</th>\n",
       "      <th>Age</th>\n",
       "      <th>Region_Of_Disease</th>\n",
       "      <th>Lesion_Id</th>\n",
       "      <th>Sex</th>\n",
       "      <th>Disease_Type</th>\n",
       "      <th>Presence</th>\n",
       "      <th>Diagnosis</th>\n",
       "      <th>Image_path</th>\n",
       "    </tr>\n",
       "  </thead>\n",
       "  <tbody>\n",
       "    <tr>\n",
       "      <th>1459</th>\n",
       "      <td>ISIC_0012653_downsampled</td>\n",
       "      <td>50</td>\n",
       "      <td>posterior torso</td>\n",
       "      <td>MSK4_0011169</td>\n",
       "      <td>female</td>\n",
       "      <td>NV</td>\n",
       "      <td>1.0</td>\n",
       "      <td>Melanocytic Nevi</td>\n",
       "      <td>../data/ISIC_2019/ISIC_2019_Training_Input/ISI...</td>\n",
       "    </tr>\n",
       "    <tr>\n",
       "      <th>1460</th>\n",
       "      <td>ISIC_0012654_downsampled</td>\n",
       "      <td>30</td>\n",
       "      <td>lower extremity</td>\n",
       "      <td>MSK4_0011170</td>\n",
       "      <td>female</td>\n",
       "      <td>NV</td>\n",
       "      <td>1.0</td>\n",
       "      <td>Melanocytic Nevi</td>\n",
       "      <td>../data/ISIC_2019/ISIC_2019_Training_Input/ISI...</td>\n",
       "    </tr>\n",
       "    <tr>\n",
       "      <th>1461</th>\n",
       "      <td>ISIC_0012655_downsampled</td>\n",
       "      <td>35</td>\n",
       "      <td>upper extremity</td>\n",
       "      <td>MSK4_0011171</td>\n",
       "      <td>female</td>\n",
       "      <td>NV</td>\n",
       "      <td>1.0</td>\n",
       "      <td>Melanocytic Nevi</td>\n",
       "      <td>../data/ISIC_2019/ISIC_2019_Training_Input/ISI...</td>\n",
       "    </tr>\n",
       "    <tr>\n",
       "      <th>1462</th>\n",
       "      <td>ISIC_0012656_downsampled</td>\n",
       "      <td>45</td>\n",
       "      <td>posterior torso</td>\n",
       "      <td>MSK4_0011172</td>\n",
       "      <td>male</td>\n",
       "      <td>NV</td>\n",
       "      <td>1.0</td>\n",
       "      <td>Melanocytic Nevi</td>\n",
       "      <td>../data/ISIC_2019/ISIC_2019_Training_Input/ISI...</td>\n",
       "    </tr>\n",
       "    <tr>\n",
       "      <th>1463</th>\n",
       "      <td>ISIC_0012657_downsampled</td>\n",
       "      <td>20</td>\n",
       "      <td>upper extremity</td>\n",
       "      <td>MSK4_0011173</td>\n",
       "      <td>female</td>\n",
       "      <td>NV</td>\n",
       "      <td>1.0</td>\n",
       "      <td>Melanocytic Nevi</td>\n",
       "      <td>../data/ISIC_2019/ISIC_2019_Training_Input/ISI...</td>\n",
       "    </tr>\n",
       "    <tr>\n",
       "      <th>...</th>\n",
       "      <td>...</td>\n",
       "      <td>...</td>\n",
       "      <td>...</td>\n",
       "      <td>...</td>\n",
       "      <td>...</td>\n",
       "      <td>...</td>\n",
       "      <td>...</td>\n",
       "      <td>...</td>\n",
       "      <td>...</td>\n",
       "    </tr>\n",
       "    <tr>\n",
       "      <th>25326</th>\n",
       "      <td>ISIC_0073247</td>\n",
       "      <td>85</td>\n",
       "      <td>head/neck</td>\n",
       "      <td>BCN_0003925</td>\n",
       "      <td>female</td>\n",
       "      <td>BCC</td>\n",
       "      <td>1.0</td>\n",
       "      <td>Basal Cell Carcinoma</td>\n",
       "      <td>../data/ISIC_2019/ISIC_2019_Training_Input/ISI...</td>\n",
       "    </tr>\n",
       "    <tr>\n",
       "      <th>25327</th>\n",
       "      <td>ISIC_0073248</td>\n",
       "      <td>65</td>\n",
       "      <td>anterior torso</td>\n",
       "      <td>BCN_0001819</td>\n",
       "      <td>male</td>\n",
       "      <td>BKL</td>\n",
       "      <td>1.0</td>\n",
       "      <td>Benign Keratosis-Like Lesions</td>\n",
       "      <td>../data/ISIC_2019/ISIC_2019_Training_Input/ISI...</td>\n",
       "    </tr>\n",
       "    <tr>\n",
       "      <th>25328</th>\n",
       "      <td>ISIC_0073249</td>\n",
       "      <td>70</td>\n",
       "      <td>lower extremity</td>\n",
       "      <td>BCN_0001085</td>\n",
       "      <td>male</td>\n",
       "      <td>MEL</td>\n",
       "      <td>1.0</td>\n",
       "      <td>Melanoma</td>\n",
       "      <td>../data/ISIC_2019/ISIC_2019_Training_Input/ISI...</td>\n",
       "    </tr>\n",
       "    <tr>\n",
       "      <th>25329</th>\n",
       "      <td>ISIC_0073251</td>\n",
       "      <td>55</td>\n",
       "      <td>palms/soles</td>\n",
       "      <td>BCN_0002083</td>\n",
       "      <td>female</td>\n",
       "      <td>NV</td>\n",
       "      <td>1.0</td>\n",
       "      <td>Melanocytic Nevi</td>\n",
       "      <td>../data/ISIC_2019/ISIC_2019_Training_Input/ISI...</td>\n",
       "    </tr>\n",
       "    <tr>\n",
       "      <th>25330</th>\n",
       "      <td>ISIC_0073254</td>\n",
       "      <td>50</td>\n",
       "      <td>upper extremity</td>\n",
       "      <td>BCN_0001079</td>\n",
       "      <td>male</td>\n",
       "      <td>BKL</td>\n",
       "      <td>1.0</td>\n",
       "      <td>Benign Keratosis-Like Lesions</td>\n",
       "      <td>../data/ISIC_2019/ISIC_2019_Training_Input/ISI...</td>\n",
       "    </tr>\n",
       "  </tbody>\n",
       "</table>\n",
       "<p>21311 rows × 9 columns</p>\n",
       "</div>"
      ],
      "text/plain": [
       "                       Image_Id  Age Region_Of_Disease     Lesion_Id     Sex  \\\n",
       "1459   ISIC_0012653_downsampled   50   posterior torso  MSK4_0011169  female   \n",
       "1460   ISIC_0012654_downsampled   30   lower extremity  MSK4_0011170  female   \n",
       "1461   ISIC_0012655_downsampled   35   upper extremity  MSK4_0011171  female   \n",
       "1462   ISIC_0012656_downsampled   45   posterior torso  MSK4_0011172    male   \n",
       "1463   ISIC_0012657_downsampled   20   upper extremity  MSK4_0011173  female   \n",
       "...                         ...  ...               ...           ...     ...   \n",
       "25326              ISIC_0073247   85         head/neck   BCN_0003925  female   \n",
       "25327              ISIC_0073248   65    anterior torso   BCN_0001819    male   \n",
       "25328              ISIC_0073249   70   lower extremity   BCN_0001085    male   \n",
       "25329              ISIC_0073251   55       palms/soles   BCN_0002083  female   \n",
       "25330              ISIC_0073254   50   upper extremity   BCN_0001079    male   \n",
       "\n",
       "      Disease_Type  Presence                      Diagnosis  \\\n",
       "1459            NV       1.0               Melanocytic Nevi   \n",
       "1460            NV       1.0               Melanocytic Nevi   \n",
       "1461            NV       1.0               Melanocytic Nevi   \n",
       "1462            NV       1.0               Melanocytic Nevi   \n",
       "1463            NV       1.0               Melanocytic Nevi   \n",
       "...            ...       ...                            ...   \n",
       "25326          BCC       1.0           Basal Cell Carcinoma   \n",
       "25327          BKL       1.0  Benign Keratosis-Like Lesions   \n",
       "25328          MEL       1.0                       Melanoma   \n",
       "25329           NV       1.0               Melanocytic Nevi   \n",
       "25330          BKL       1.0  Benign Keratosis-Like Lesions   \n",
       "\n",
       "                                              Image_path  \n",
       "1459   ../data/ISIC_2019/ISIC_2019_Training_Input/ISI...  \n",
       "1460   ../data/ISIC_2019/ISIC_2019_Training_Input/ISI...  \n",
       "1461   ../data/ISIC_2019/ISIC_2019_Training_Input/ISI...  \n",
       "1462   ../data/ISIC_2019/ISIC_2019_Training_Input/ISI...  \n",
       "1463   ../data/ISIC_2019/ISIC_2019_Training_Input/ISI...  \n",
       "...                                                  ...  \n",
       "25326  ../data/ISIC_2019/ISIC_2019_Training_Input/ISI...  \n",
       "25327  ../data/ISIC_2019/ISIC_2019_Training_Input/ISI...  \n",
       "25328  ../data/ISIC_2019/ISIC_2019_Training_Input/ISI...  \n",
       "25329  ../data/ISIC_2019/ISIC_2019_Training_Input/ISI...  \n",
       "25330  ../data/ISIC_2019/ISIC_2019_Training_Input/ISI...  \n",
       "\n",
       "[21311 rows x 9 columns]"
      ]
     },
     "execution_count": 19,
     "metadata": {},
     "output_type": "execute_result"
    },
    {
     "name": "stdout",
     "output_type": "stream",
     "text": [
      "time: 9.61 s (started: 2024-08-19 14:33:05 +07:00)\n"
     ]
    }
   ],
   "source": [
    "# Map image paths\n",
    "train_image_dir = training_input_dir\n",
    "image_paths = [os.path.join(train_image_dir, fname) for fname in os.listdir(train_image_dir)]\n",
    "image_path_dict = {os.path.splitext(os.path.basename(p))[0]: p for p in image_paths}\n",
    "train_metadata_pp['Image_path'] = train_metadata_pp['Image_Id'].map(image_path_dict)\n",
    "\n",
    "train_metadata_pp"
   ]
  },
  {
   "cell_type": "code",
   "execution_count": 20,
   "metadata": {
    "colab": {
     "base_uri": "https://localhost:8080/"
    },
    "id": "QDwmTj3sL72A",
    "jupyter": {
     "source_hidden": true
    },
    "outputId": "3f9f23fe-79b3-4bf6-e479-b28183ea00e5"
   },
   "outputs": [
    {
     "name": "stdout",
     "output_type": "stream",
     "text": [
      "<class 'pandas.core.frame.DataFrame'>\n",
      "Index: 21311 entries, 1459 to 25330\n",
      "Data columns (total 9 columns):\n",
      " #   Column             Non-Null Count  Dtype  \n",
      "---  ------             --------------  -----  \n",
      " 0   Image_Id           21311 non-null  object \n",
      " 1   Age                21311 non-null  int64  \n",
      " 2   Region_Of_Disease  21311 non-null  object \n",
      " 3   Lesion_Id          21311 non-null  object \n",
      " 4   Sex                21311 non-null  object \n",
      " 5   Disease_Type       21311 non-null  object \n",
      " 6   Presence           21311 non-null  float64\n",
      " 7   Diagnosis          21311 non-null  object \n",
      " 8   Image_path         21311 non-null  object \n",
      "dtypes: float64(1), int64(1), object(7)\n",
      "memory usage: 1.6+ MB\n",
      "time: 35.3 ms (started: 2024-08-19 14:33:14 +07:00)\n"
     ]
    }
   ],
   "source": [
    "# train_metadata_pp = train_metadata_pp.sample(n=2000, random_state=42) # remove this line for full dataset\n",
    "train_metadata_pp.info()"
   ]
  },
  {
   "cell_type": "markdown",
   "metadata": {
    "id": "x71ADPlLeo2A"
   },
   "source": [
    "###Correctting image paths"
   ]
  },
  {
   "cell_type": "code",
   "execution_count": null,
   "metadata": {
    "jupyter": {
     "source_hidden": true
    }
   },
   "outputs": [],
   "source": [
    "# Ensure that the image paths are correct and accessible\n",
    "for i in range(len(train_metadata_pp)):\n",
    "    if not os.path.isfile(train_metadata_pp['Image_path'].iloc[i]):\n",
    "        raise FileNotFoundError(f\"Image file not found: {train_metadata_pp['Image_path'].iloc[i]}\")\n",
    "\n",
    "# Get one image per class\n",
    "class_images = train_metadata_pp.drop_duplicates(subset='Diagnosis')\n",
    "\n",
    "# Plot one image per class\n",
    "def plot_class_images(class_images):\n",
    "    plt.figure(figsize=(15, 5))\n",
    "    num_classes = len(class_images)\n",
    "    for i in range(num_classes):\n",
    "        plt.subplot(1, num_classes, i + 1)\n",
    "        img = plt.imread(class_images['Image_path'].iloc[i])\n",
    "        plt.imshow(img)\n",
    "        plt.axis('off')\n",
    "        plt.title(class_images['Diagnosis'].iloc[i], fontsize=12)\n",
    "    plt.tight_layout()\n",
    "    plt.show()\n",
    "\n",
    "# Call the function to plot images\n",
    "plot_class_images(class_images)"
   ]
  },
  {
   "cell_type": "markdown",
   "metadata": {
    "id": "QXPUQqNroUFL"
   },
   "source": [
    "#MODEL IMPLEMENTATION"
   ]
  },
  {
   "cell_type": "markdown",
   "metadata": {
    "id": "oluFMJ7VcCha"
   },
   "source": [
    "##Prepare data for training process"
   ]
  },
  {
   "cell_type": "markdown",
   "metadata": {
    "id": "SEaZCvezeQqe"
   },
   "source": [
    "###Label Encoder"
   ]
  },
  {
   "cell_type": "code",
   "execution_count": null,
   "metadata": {
    "colab": {
     "base_uri": "https://localhost:8080/"
    },
    "id": "5iC23nobcHyO",
    "jupyter": {
     "source_hidden": true
    },
    "outputId": "9ecf3389-46ca-4733-f34f-00cab10ae388"
   },
   "outputs": [],
   "source": [
    "# Initialize LabelEncoder\n",
    "label_encoder = LabelEncoder()\n",
    "\n",
    "# Fit LabelEncoder and transform 'Region_Of_Disease' column\n",
    "train_metadata_pp['Diagnosis_Label'] = label_encoder.fit_transform(train_metadata_pp['Diagnosis'])\n",
    "\n",
    "# Display the mapping between original labels and encoded labels\n",
    "label_mapping = dict(zip(label_encoder.classes_, label_encoder.transform(label_encoder.classes_)))\n",
    "print(\"Label Encoding Mapping:\")\n",
    "print(label_mapping)"
   ]
  },
  {
   "cell_type": "markdown",
   "metadata": {
    "id": "5Lb0dC-S7KVW"
   },
   "source": [
    "###Augment and transfrom dataset"
   ]
  },
  {
   "cell_type": "code",
   "execution_count": null,
   "metadata": {
    "colab": {
     "base_uri": "https://localhost:8080/"
    },
    "id": "5O4Ib2ZEF74r",
    "jupyter": {
     "source_hidden": true
    },
    "outputId": "5564e8ff-d89c-4a59-de3d-e17cdc4613ca"
   },
   "outputs": [],
   "source": [
    "# Data augmentation and transformation\n",
    "transform = transforms.Compose([\n",
    "    transforms.Resize((224, 224)),  # Resize images to 224x224\n",
    "    transforms.ToTensor(),  # Convert PIL image to tensor\n",
    "    transforms.RandomHorizontalFlip(),\n",
    "    transforms.RandomRotation(10),\n",
    "    transforms.RandomResizedCrop(224, scale=(0.9, 1.1)),\n",
    "    transforms.ColorJitter(brightness=0.2, contrast=0.2, saturation=0.2, hue=0.2),\n",
    "    transforms.Normalize(mean=[0.485, 0.456, 0.406], std=[0.229, 0.224, 0.225])\n",
    "])"
   ]
  },
  {
   "cell_type": "markdown",
   "metadata": {
    "id": "Czc3v26V_wLX"
   },
   "source": [
    "###Split data"
   ]
  },
  {
   "cell_type": "code",
   "execution_count": null,
   "metadata": {
    "colab": {
     "base_uri": "https://localhost:8080/"
    },
    "id": "EgAIcgwB_vne",
    "jupyter": {
     "source_hidden": true
    },
    "outputId": "49d24f15-dc0d-4418-f760-aa511b5e9b34"
   },
   "outputs": [],
   "source": [
    "# Split the dataset into train and temp (80% train, 20% temp)\n",
    "train_df, temp_df = train_test_split(train_metadata_pp, test_size=0.2, stratify=train_metadata_pp['Diagnosis_Label'], random_state=42)\n",
    "\n",
    "# Split the temp dataset into validation and test (50% val, 50% test of the 20% temp)\n",
    "val_df, test_df = train_test_split(temp_df, test_size=0.5, stratify=temp_df['Diagnosis_Label'], random_state=42)\n",
    "\n",
    "print(f\"Training set size: {len(train_df)}\")\n",
    "print(f\"Validation set size: {len(val_df)}\")\n",
    "print(f\"Test set size: {len(test_df)}\")"
   ]
  },
  {
   "cell_type": "markdown",
   "metadata": {
    "id": "y3W4w1FsXxJz"
   },
   "source": [
    "###Balancing dataset"
   ]
  },
  {
   "cell_type": "code",
   "execution_count": null,
   "metadata": {
    "colab": {
     "base_uri": "https://localhost:8080/"
    },
    "id": "1jZppBZyX3ox",
    "jupyter": {
     "source_hidden": true
    },
    "outputId": "5ad16c58-849d-4bc5-b2ff-95a387d718e4"
   },
   "outputs": [],
   "source": [
    "# Separate features and labels for balancing\n",
    "X_train = train_df.drop(columns=['Diagnosis_Label'])\n",
    "y_train = train_df['Diagnosis_Label']\n",
    "\n",
    "# Apply RandomOverSampler only to the training set\n",
    "ros = RandomOverSampler(random_state=42)\n",
    "X_resampled, y_resampled = ros.fit_resample(X_train, y_train)\n",
    "\n",
    "# Combine resampled features and labels into a DataFrame\n",
    "train_df_resampled = X_resampled.copy()\n",
    "train_df_resampled['Diagnosis_Label'] = y_resampled\n",
    "\n",
    "print(f\"Resampled training set size: {len(train_df_resampled)}\")"
   ]
  },
  {
   "cell_type": "markdown",
   "metadata": {
    "id": "_WFVgDH_FXzI"
   },
   "source": [
    "###Custom dataset class"
   ]
  },
  {
   "cell_type": "code",
   "execution_count": null,
   "metadata": {
    "colab": {
     "base_uri": "https://localhost:8080/"
    },
    "id": "v8-i4W6FFeGA",
    "jupyter": {
     "source_hidden": true
    },
    "outputId": "c75cb3bc-8ecf-4f07-958b-37a52b613fd2"
   },
   "outputs": [],
   "source": [
    "#  make easily load and preprocess dataset -> compatible with PyTorch’s data loading utilities.\n",
    "class LoadedDataset(Dataset):\n",
    "    def __init__(self, dataframe, transform=None):\n",
    "        self.dataframe = dataframe\n",
    "        self.transform = transform\n",
    "\n",
    "    def __len__(self):\n",
    "        return len(self.dataframe)\n",
    "\n",
    "    def __getitem__(self, idx):\n",
    "        img_path = self.dataframe.iloc[idx]['Image_path']\n",
    "        image = Image.open(img_path).convert('RGB')\n",
    "        label = self.dataframe.iloc[idx]['Diagnosis_Label']\n",
    "\n",
    "        if self.transform:\n",
    "            image = self.transform(image)\n",
    "\n",
    "        return image, label\n",
    "\n",
    "# Create datasets and dataloaders\n",
    "train_dataset = LoadedDataset(train_df_resampled, transform=transform)\n",
    "val_dataset = LoadedDataset(val_df, transform=transform)\n",
    "test_dataset = LoadedDataset(test_df, transform=transform)\n",
    "\n",
    "train_loader = DataLoader(train_dataset, batch_size=32, shuffle=True, num_workers=4)\n",
    "val_loader = DataLoader(val_dataset, batch_size=32, shuffle=False, num_workers=4)\n",
    "test_loader = DataLoader(test_dataset, batch_size=32, shuffle=False, num_workers=4)\n",
    "\n",
    "# train_loader = DataLoader(train_dataset, batch_size=32, shuffle=True, num_workers=0)\n",
    "# val_loader = DataLoader(val_dataset, batch_size=32, shuffle=False, num_workers=0)\n",
    "# test_loader = DataLoader(test_dataset, batch_size=32, shuffle=False, num_workers=0)\n",
    "\n",
    "# train_loader = DataLoader(train_dataset, batch_size=32, shuffle=True, num_workers=4, persistent_workers=True)\n",
    "# val_loader = DataLoader(val_dataset, batch_size=32, shuffle=False, num_workers=4, persistent_workers=True)\n",
    "# test_loader = DataLoader(test_dataset, batch_size=32, shuffle=False, num_workers=4, persistent_workers=True)\n",
    "\n",
    "# train_loader = DataLoader(train_dataset, batch_size=32, shuffle=True, num_workers=4, persistent_workers=True, pin_memory=True)\n",
    "# val_loader = DataLoader(val_dataset, batch_size=32, shuffle=False, num_workers=4, persistent_workers=True, pin_memory=True)\n",
    "# test_loader = DataLoader(test_dataset, batch_size=32, shuffle=False, num_workers=4, persistent_workers=True, pin_memory=True)\n",
    "\n",
    "# Example of iterating through the dataloader and printing results\n",
    "for images, labels in train_loader:\n",
    "    print(f\"Batch of images shape: {images.shape}\")\n",
    "    print(f\"Batch of labels shape: {labels.shape}\")\n",
    "    print(f\"Labels: {labels}\")\n",
    "\n",
    "    print(\"Label Mapping:\", label_mapping)\n",
    "    print(\"Unique Labels in Dataset:\", train_metadata_pp['Diagnosis_Label'].unique())\n",
    "\n",
    "    break  # Print only the first batch"
   ]
  },
  {
   "cell_type": "code",
   "execution_count": null,
   "metadata": {
    "colab": {
     "base_uri": "https://localhost:8080/",
     "height": 498
    },
    "id": "qPstj3iOZHfU",
    "jupyter": {
     "source_hidden": true
    },
    "outputId": "a9bc0397-bd22-46b9-f9ac-5ccf766d4a7d"
   },
   "outputs": [],
   "source": [
    "# Function to plot a batch of images\n",
    "def plot_batch_images(images, labels, label_mapping):\n",
    "    num_images = len(images)\n",
    "    num_cols = 8\n",
    "    num_rows = math.ceil(num_images / num_cols)\n",
    "\n",
    "    plt.figure(figsize=(15, 10))\n",
    "    for i in range(num_images):\n",
    "        plt.subplot(num_rows, num_cols, i + 1)\n",
    "\n",
    "        img = images[i].permute(1, 2, 0).numpy()  # Convert tensor to numpy array and rearrange dimensions\n",
    "        img = img * [0.229, 0.224, 0.225] + [0.485, 0.456, 0.406]  # Unnormalize\n",
    "        img = np.clip(img, 0, 1)  # Clip values to be in the range [0, 1]\n",
    "        plt.imshow(img)\n",
    "        plt.axis('off')\n",
    "\n",
    "        label = labels[i].item()\n",
    "        label_name = list(label_mapping.keys())[list(label_mapping.values()).index(label)]  # Get label name\n",
    "        plt.title(label_name, fontsize=8)\n",
    "\n",
    "    plt.tight_layout()\n",
    "    plt.show()\n",
    "\n",
    "# Get a batch of training data\n",
    "images, labels = next(iter(train_loader))\n",
    "\n",
    "# Plot the batch of images\n",
    "plot_batch_images(images, labels, label_mapping)\n"
   ]
  },
  {
   "cell_type": "markdown",
   "metadata": {
    "id": "hI1XQ_I_5cE_"
   },
   "source": [
    "##Model functionalities"
   ]
  },
  {
   "cell_type": "markdown",
   "metadata": {
    "id": "J4OffGPNn4hU"
   },
   "source": [
    "###Load pre-trained and construct models"
   ]
  },
  {
   "cell_type": "markdown",
   "metadata": {
    "id": "ahaEPe0qKV9d"
   },
   "source": [
    "####Load pretrained models"
   ]
  },
  {
   "cell_type": "code",
   "execution_count": null,
   "metadata": {
    "jupyter": {
     "source_hidden": true
    }
   },
   "outputs": [],
   "source": [
    "def create_model(model_name, num_classes):\n",
    "    if model_name == 'densenet121':\n",
    "        model = models.densenet121(pretrained=True)\n",
    "        num_ftrs = model.classifier.in_features\n",
    "        model.classifier = nn.Sequential(\n",
    "            nn.Dropout(0.5),  # Add dropout with 50% probability\n",
    "            nn.Linear(num_ftrs, num_classes)\n",
    "        )\n",
    "    elif model_name == 'efficientnet-b0':\n",
    "        model = EfficientNet.from_pretrained('efficientnet-b0')\n",
    "        num_ftrs = model._fc.in_features\n",
    "        model._fc = nn.Sequential(\n",
    "            nn.Dropout(0.5),\n",
    "            nn.Linear(num_ftrs, num_classes)\n",
    "        )\n",
    "    elif model_name == 'resnet50':\n",
    "        model = models.resnet50(pretrained=True)\n",
    "        num_ftrs = model.fc.in_features\n",
    "        model.fc = nn.Sequential(\n",
    "            nn.Dropout(0.5),  # Add dropout with 50% probability\n",
    "            nn.Linear(num_ftrs, num_classes)\n",
    "        )\n",
    "    elif model_name == 'resnext50_32x4d':\n",
    "        model = models.resnext50_32x4d(pretrained=True)\n",
    "        num_ftrs = model.fc.in_features\n",
    "        model.fc = nn.Sequential(\n",
    "            nn.Dropout(0.5),  # Add dropout with 50% probability\n",
    "            nn.Linear(num_ftrs, num_classes)\n",
    "        )\n",
    "        model.num_classes = num_classes\n",
    "    elif model_name == 'shufflenet_v2_x1_0':\n",
    "        model = models.shufflenet_v2_x1_0(pretrained=True)\n",
    "        num_ftrs = model.fc.in_features\n",
    "        model.fc = nn.Sequential(\n",
    "            nn.Dropout(0.5),\n",
    "            nn.Linear(num_ftrs, num_classes)\n",
    "        )\n",
    "    elif model_name == 'dpn68':\n",
    "        model = torch.hub.load('rwightman/pytorch-dpn-pretrained', 'dpn68', pretrained=True)\n",
    "        num_ftrs = model.classifier.in_features\n",
    "        model.classifier = nn.Sequential(\n",
    "            nn.Dropout(0.5),\n",
    "            nn.Linear(num_ftrs, num_classes)\n",
    "        )\n",
    "    elif model_name == 'customCNN':\n",
    "        model = CustomCNN(num_classes)\n",
    "    else:\n",
    "        raise ValueError(\"Invalid model name. Choose from 'resnet101', 'densenet201', 'efficientnet-b5', 'resnext50_32x4d', 'shufflenetv2', 'dpn68', or 'customCNN'.\")\n",
    "    return model\n"
   ]
  },
  {
   "cell_type": "markdown",
   "metadata": {
    "id": "UGni8zPhfiwr"
   },
   "source": [
    "###Training activities"
   ]
  },
  {
   "cell_type": "code",
   "execution_count": null,
   "metadata": {
    "jupyter": {
     "source_hidden": true
    }
   },
   "outputs": [],
   "source": [
    "def train_model(model, train_loader, val_loader, criterion, optimizer, num_epochs=25, patience=5, threshold=0.5, save_dir='best_model'):\n",
    "    best_val_loss = np.inf\n",
    "    best_val_acc = 0.0\n",
    "    patience_counter = 0\n",
    "    metrics = {\n",
    "        'Train Loss': [],\n",
    "        'Train Accuracy': [],\n",
    "        'Val Loss': [],\n",
    "        'Val Accuracy': [],\n",
    "        'Learning Rate': []  # Track learning rate\n",
    "    }\n",
    "    if not os.path.exists(save_dir):\n",
    "        os.makedirs(save_dir)\n",
    "\n",
    "    # Start the timer\n",
    "    start_time = time.time()\n",
    "    \n",
    "    for epoch in range(num_epochs):\n",
    "        model.train()\n",
    "        running_loss = 0.0\n",
    "        correct = 0\n",
    "        total = 0\n",
    "\n",
    "        progress_bar = tqdm(train_loader, desc=f\"Epoch {epoch+1}/{num_epochs}\", ncols=200)  # Adjust ncols to set the width\n",
    "        num_batches = len(train_loader)\n",
    "        validate_every_n_batches = max(1, num_batches // 10)  # Calculate the number of batches for 10% progress\n",
    "\n",
    "        val_loss = None\n",
    "        val_acc = None\n",
    "\n",
    "        for batch_idx, (images, labels) in enumerate(progress_bar):\n",
    "            images = images.to(device)\n",
    "            labels = labels.to(device)\n",
    "            outputs = model(images)\n",
    "            loss = criterion(outputs, labels)\n",
    "            optimizer.zero_grad()\n",
    "            loss.backward()  # Backpropagation\n",
    "            optimizer.step()\n",
    "\n",
    "            running_loss += loss.item()\n",
    "            _, predicted = torch.max(outputs, 1)\n",
    "            total += labels.size(0)\n",
    "            correct += (predicted == labels).sum().item()\n",
    "\n",
    "            train_loss = running_loss / (batch_idx + 1)\n",
    "            train_acc = 100 * correct / total\n",
    "\n",
    "            if (batch_idx + 1) % validate_every_n_batches == 0 or (batch_idx + 1) == num_batches:\n",
    "                val_loss, val_acc, _, _ = validate_model(model, val_loader, criterion, threshold)\n",
    "\n",
    "            progress_bar.set_postfix({\n",
    "                'Train Loss': f'{train_loss:.4f}',\n",
    "                'Train Accuracy': f'{train_acc:.2f}%',\n",
    "                'Val Loss': f'{val_loss:.4f}' if val_loss is not None else '[]',\n",
    "                'Val Accuracy': f'{val_acc:.2f}%' if val_acc is not None else '[]'\n",
    "            })\n",
    "            progress_bar.refresh()\n",
    "\n",
    "        val_loss, val_acc, all_preds, all_labels = validate_model(model, val_loader, criterion, threshold)\n",
    "\n",
    "        # Store final metrics for the epoch\n",
    "        metrics['Train Loss'].append(train_loss)\n",
    "        metrics['Train Accuracy'].append(train_acc)\n",
    "        metrics['Val Loss'].append(val_loss)\n",
    "        metrics['Val Accuracy'].append(val_acc)\n",
    "        metrics['Learning Rate'].append(optimizer.param_groups[0]['lr'])  # Track learning rate\n",
    "        \n",
    "        scheduler.step(val_loss)  # Step the scheduler\n",
    "        \n",
    "        # Early stopping\n",
    "        if val_loss < best_val_loss or val_acc > best_val_acc:\n",
    "            # if val_loss < best_val_loss:\n",
    "            #     best_val_loss = val_loss\n",
    "            # if val_acc > best_val_acc:\n",
    "            #     best_val_acc = val_acc\n",
    "            best_val_loss = val_loss\n",
    "            best_val_acc = val_acc\n",
    "            patience_counter = 0\n",
    "            \n",
    "            # Save the best model\n",
    "            model_save_path = os.path.join(save_dir, f'{model_name}_best.pth')\n",
    "            torch.save({\n",
    "                'epoch': epoch + 1, # Adjust the epoch number\n",
    "                'model_state_dict': model.state_dict(),\n",
    "                'optimizer_state_dict': optimizer.state_dict(),\n",
    "                'val_loss': val_loss,\n",
    "                'val_acc': val_acc,\n",
    "                'learning_rate': optimizer.param_groups[0]['lr']  # Save learning rate\n",
    "            }, model_save_path)\n",
    "\n",
    "            # Print success message\n",
    "            print(f'Model {model_name} at epoch {epoch + 1} with accuracy of {val_acc:.2f}% is saved to \"{model_save_path}\" successfully.')\n",
    "        else:\n",
    "            patience_counter += 1\n",
    "\n",
    "        if patience_counter >= patience:\n",
    "            print(\"Early stopping triggered\")\n",
    "            break\n",
    "\n",
    "        \n",
    "        \n",
    "    # End the timer\n",
    "    end_time = time.time()\n",
    "    total_time = end_time - start_time\n",
    "\n",
    "    # Print overall model accuracy on the validation set\n",
    "    print(f\"Overall Validation Accuracy: {val_acc:.2f}%\")\n",
    "    print(f\"Total Training Time: {total_time:.2f} seconds\")\n",
    "    \n",
    "    return metrics\n"
   ]
  },
  {
   "cell_type": "code",
   "execution_count": null,
   "metadata": {
    "jupyter": {
     "source_hidden": true
    }
   },
   "outputs": [],
   "source": [
    "def validate_model(model, val_loader, criterion, threshold=0.5):\n",
    "    model.eval()\n",
    "    running_loss = 0.0\n",
    "    correct = 0\n",
    "    total = 0\n",
    "    all_preds = []\n",
    "    all_labels = []\n",
    "\n",
    "    with torch.no_grad():\n",
    "        for images, labels in val_loader:\n",
    "            images = images.to(device)\n",
    "            labels = labels.to(device)\n",
    "            outputs = model(images)\n",
    "            loss = criterion(outputs, labels)\n",
    "\n",
    "            running_loss += loss.item()\n",
    "            probabilities = torch.softmax(outputs, dim=1)\n",
    "            max_probs, predicted = torch.max(probabilities, 1)\n",
    "            confident_preds = (max_probs >= threshold).long() * predicted\n",
    "            total += labels.size(0)\n",
    "            correct += (confident_preds == labels).sum().item()\n",
    "\n",
    "            all_preds.extend(confident_preds.cpu().numpy())\n",
    "            all_labels.extend(labels.cpu().numpy())\n",
    "\n",
    "    val_loss = running_loss / len(val_loader)\n",
    "    val_acc = 100 * correct / total\n",
    "\n",
    "    return val_loss, val_acc, all_preds, all_labels\n"
   ]
  },
  {
   "cell_type": "markdown",
   "metadata": {},
   "source": [
    "###Complexity measurement"
   ]
  },
  {
   "cell_type": "code",
   "execution_count": null,
   "metadata": {
    "jupyter": {
     "source_hidden": true
    }
   },
   "outputs": [],
   "source": [
    "# Function to measure training time\n",
    "def measure_training_time(model, train_loader, criterion, optimizer, num_epochs=1):\n",
    "    start_time = time.time()\n",
    "    for epoch in range(num_epochs):\n",
    "        model.train()\n",
    "        for images, labels in train_loader:\n",
    "            images = images.to(device)\n",
    "            labels = labels.to(device)\n",
    "            outputs = model(images)\n",
    "            loss = criterion(outputs, labels)\n",
    "            optimizer.zero_grad()\n",
    "            loss.backward()\n",
    "            optimizer.step()\n",
    "    end_time = time.time()\n",
    "    training_time = end_time - start_time\n",
    "    print(f\"Relative Training Time of 1 Epoch: {training_time:.2f} seconds\")\n",
    "\n",
    "# Function to measure inference time\n",
    "def measure_inference_time(model, test_loader):\n",
    "    model.eval()\n",
    "    start_time = time.time()\n",
    "    with torch.no_grad():\n",
    "        for images, labels in test_loader:\n",
    "            images = images.to(device)\n",
    "            outputs = model(images)\n",
    "    end_time = time.time()\n",
    "    inference_time = end_time - start_time\n",
    "    print(f\"Total Inference Time: {inference_time:.2f} seconds\")\n",
    "\n",
    "# Function to measure memory usage\n",
    "def measure_memory_usage(model, train_loader):\n",
    "    model.train()\n",
    "    torch.cuda.reset_peak_memory_stats(device)\n",
    "    for images, labels in train_loader:\n",
    "        images = images.to(device)\n",
    "        labels = labels.to(device)\n",
    "        outputs = model(images)\n",
    "        loss = criterion(outputs, labels)\n",
    "        optimizer.zero_grad()\n",
    "        loss.backward()\n",
    "        optimizer.step()\n",
    "    peak_memory = torch.cuda.max_memory_allocated(device)\n",
    "    print(f\"Peak Memory Usage: {peak_memory / (1024 ** 2):.2f} MB\")"
   ]
  },
  {
   "cell_type": "markdown",
   "metadata": {},
   "source": [
    "###Visualize training result"
   ]
  },
  {
   "cell_type": "code",
   "execution_count": null,
   "metadata": {
    "jupyter": {
     "source_hidden": true
    }
   },
   "outputs": [],
   "source": [
    "def plot_metrics(metrics):\n",
    "    epochs = range(1, len(metrics['Train Loss']) + 1)\n",
    "\n",
    "    # # Debugging: Print the metrics to check their contents\n",
    "    # print(\"Train Loss:\", metrics['Train Loss'])\n",
    "    # print(\"Val Loss:\", metrics['Val Loss'])\n",
    "    # print(\"Learning Rate:\", metrics['Learning Rate'])\n",
    "    \n",
    "    fig, ax1 = plt.subplots(1, 2, figsize=(12, 4))\n",
    "\n",
    "    # Plotting Training and Validation Loss\n",
    "    ax1[0].plot(epochs, metrics['Train Loss'], label='Train Loss')\n",
    "    ax1[0].plot(epochs, metrics['Val Loss'], label='Val Loss')\n",
    "    ax1[0].set_xlabel('Epochs')\n",
    "    ax1[0].set_ylabel('Loss')\n",
    "    ax1[0].set_title('Training and Validation Loss')\n",
    "\n",
    "    ax2_0 = ax1[0].twinx()\n",
    "    ax2_0.plot(epochs, metrics['Learning Rate'], label='Learning Rate', color='r', linestyle='--')\n",
    "    ax2_0.set_ylabel('Learning Rate')\n",
    "\n",
    "    # Combine legends for Loss\n",
    "    lines_0, labels_0 = ax1[0].get_legend_handles_labels()\n",
    "    lines_2_0, labels_2_0 = ax2_0.get_legend_handles_labels()\n",
    "    ax1[0].legend(lines_0 + lines_2_0, labels_0 + labels_2_0, loc='upper right')\n",
    "\n",
    "    # Plotting Training and Validation Accuracy\n",
    "    ax1[1].plot(epochs, metrics['Train Accuracy'], label='Train Accuracy')\n",
    "    ax1[1].plot(epochs, metrics['Val Accuracy'], label='Val Accuracy')\n",
    "    ax1[1].set_xlabel('Epochs')\n",
    "    ax1[1].set_ylabel('Accuracy')\n",
    "    ax1[1].set_title('Training and Validation Accuracy')\n",
    "\n",
    "    ax2_1 = ax1[1].twinx()\n",
    "    ax2_1.plot(epochs, metrics['Learning Rate'], label='Learning Rate', color='r', linestyle='--')\n",
    "    ax2_1.set_ylabel('Learning Rate')\n",
    "\n",
    "    # Combine legends for Accuracy\n",
    "    lines_1, labels_1 = ax1[1].get_legend_handles_labels()\n",
    "    lines_2_1, labels_2_1 = ax2_1.get_legend_handles_labels()\n",
    "    ax1[1].legend(lines_1 + lines_2_1, labels_1 + labels_2_1, loc='upper left')\n",
    "\n",
    "    plt.tight_layout()\n",
    "    plt.show()\n"
   ]
  },
  {
   "cell_type": "code",
   "execution_count": null,
   "metadata": {
    "jupyter": {
     "source_hidden": true
    }
   },
   "outputs": [],
   "source": [
    "def visualize_predictions(model, val_loader, label_mapping, criterion, num_images=16):\n",
    "    model.eval()\n",
    "    images_so_far = 0\n",
    "    fig = plt.figure(figsize=(15, 15))  # Decrease the figure size\n",
    "\n",
    "    with torch.no_grad():\n",
    "        for i, (images, labels) in enumerate(val_loader):\n",
    "            images = images.to(device)\n",
    "            labels = labels.to(device)\n",
    "            outputs = model(images)\n",
    "            _, preds = torch.max(outputs, 1)\n",
    "            loss = criterion(outputs, labels)\n",
    "\n",
    "            for j in range(images.size()[0]):\n",
    "                images_so_far += 1\n",
    "                ax = plt.subplot(num_images // 4, 4, images_so_far)\n",
    "                ax.axis('off')\n",
    "                ax.set_title(f'Predicted: {list(label_mapping.keys())[preds[j]]}\\n'\n",
    "                             f'Actual: {list(label_mapping.keys())[labels[j]]}\\n'\n",
    "                             f'Loss: {loss.item():.2f}\\n'\n",
    "                             f'Accuracy: {(preds[j] == labels[j]).item() * 100:.2f}%', fontsize=14)  # Increase text size\n",
    "                img = images.cpu().data[j].numpy().transpose((1, 2, 0))\n",
    "                img = img * np.array([0.229, 0.224, 0.225]) + np.array([0.485, 0.456, 0.406])\n",
    "                img = np.clip(img, 0, 1)\n",
    "                ax.imshow(img)\n",
    "\n",
    "                if images_so_far == num_images:\n",
    "                    plt.tight_layout()\n",
    "                    return\n"
   ]
  },
  {
   "cell_type": "code",
   "execution_count": null,
   "metadata": {
    "jupyter": {
     "source_hidden": true
    }
   },
   "outputs": [],
   "source": [
    "def plot_confusion_matrix(model, test_loader, label_mapping):\n",
    "    model.eval()\n",
    "    all_preds = []\n",
    "    all_labels = []\n",
    "\n",
    "    with torch.no_grad():\n",
    "        for images, labels in test_loader:\n",
    "            images = images.to(device)\n",
    "            labels = labels.to(device)\n",
    "            outputs = model(images)\n",
    "            _, preds = torch.max(outputs, 1)\n",
    "            all_preds.extend(preds.cpu().numpy())\n",
    "            all_labels.extend(labels.cpu().numpy())\n",
    "\n",
    "    # Compute confusion matrix\n",
    "    cm = confusion_matrix(all_labels, all_preds)\n",
    "    cm_labels = list(label_mapping.keys())\n",
    "\n",
    "    # Plot confusion matrix\n",
    "    plt.figure(figsize=(10, 8))\n",
    "    sns.heatmap(cm, annot=True, fmt='d', cmap='Blues', xticklabels=cm_labels, yticklabels=cm_labels)\n",
    "    plt.xlabel('Predicted')\n",
    "    plt.ylabel('Actual')\n",
    "    plt.title('Confusion Matrix')\n",
    "    plt.show()"
   ]
  },
  {
   "cell_type": "code",
   "execution_count": null,
   "metadata": {
    "jupyter": {
     "source_hidden": true
    }
   },
   "outputs": [],
   "source": [
    "def plot_normalize_confusion_matrix(model, test_loader, label_mapping):\n",
    "    model.eval()\n",
    "    all_preds = []\n",
    "    all_labels = []\n",
    "\n",
    "    with torch.no_grad():\n",
    "        for images, labels in test_loader:\n",
    "            images = images.to(device)\n",
    "            labels = labels.to(device)\n",
    "            outputs = model(images)\n",
    "            _, preds = torch.max(outputs, 1)\n",
    "            all_preds.extend(preds.cpu().numpy())\n",
    "            all_labels.extend(labels.cpu().numpy())\n",
    "\n",
    "    # Compute confusion matrix\n",
    "    cm = confusion_matrix(all_labels, all_preds)\n",
    "    cm_labels = list(label_mapping.keys())\n",
    "\n",
    "    # Normalize the confusion matrix\n",
    "    cm_normalized = cm.astype('float') / cm.sum(axis=1)[:, np.newaxis]\n",
    "\n",
    "    # Plot normalized confusion matrix\n",
    "    plt.figure(figsize=(10, 8))\n",
    "    sns.heatmap(cm_normalized, annot=True, fmt='.2f', cmap='Blues', xticklabels=cm_labels, yticklabels=cm_labels)\n",
    "    plt.xlabel('Predicted')\n",
    "    plt.ylabel('Actual')\n",
    "    plt.title('Normalized Confusion Matrix')\n",
    "    plt.show()"
   ]
  },
  {
   "cell_type": "markdown",
   "metadata": {
    "id": "8940rHlwbsBs"
   },
   "source": [
    "##Train the model"
   ]
  },
  {
   "cell_type": "code",
   "execution_count": null,
   "metadata": {
    "scrolled": true
   },
   "outputs": [
    {
     "name": "stderr",
     "output_type": "stream",
     "text": [
      "Epoch 1/100: 100%|█████████████████████████████████████████████████████████████████| 1949/1949 [1:00:50<00:00,  1.87s/it, Train Loss=2.0610, Train Accuracy=14.18%, Val Loss=2.0556, Val Accuracy=3.94%]\n"
     ]
    },
    {
     "name": "stdout",
     "output_type": "stream",
     "text": [
      "Model resnext50_32x4d at epoch 1 with accuracy of 3.94% is saved to \"../saved_models/resnext50_32x4d_best.pth\" successfully.\n"
     ]
    },
    {
     "name": "stderr",
     "output_type": "stream",
     "text": [
      "Epoch 2/100: 100%|█████████████████████████████████████████████████████████████████| 1949/1949 [1:01:56<00:00,  1.91s/it, Train Loss=1.9339, Train Accuracy=23.84%, Val Loss=1.7801, Val Accuracy=5.21%]\n"
     ]
    },
    {
     "name": "stdout",
     "output_type": "stream",
     "text": [
      "Model resnext50_32x4d at epoch 2 with accuracy of 5.26% is saved to \"../saved_models/resnext50_32x4d_best.pth\" successfully.\n"
     ]
    },
    {
     "name": "stderr",
     "output_type": "stream",
     "text": [
      "Epoch 3/100: 100%|█████████████████████████████████████████████████████████████████| 1949/1949 [1:01:09<00:00,  1.88s/it, Train Loss=1.8434, Train Accuracy=27.44%, Val Loss=1.7142, Val Accuracy=5.58%]\n"
     ]
    },
    {
     "name": "stdout",
     "output_type": "stream",
     "text": [
      "Model resnext50_32x4d at epoch 3 with accuracy of 5.49% is saved to \"../saved_models/resnext50_32x4d_best.pth\" successfully.\n"
     ]
    },
    {
     "name": "stderr",
     "output_type": "stream",
     "text": [
      "Epoch 4/100: 100%|████████████████████████████████████████████████████████████████| 1949/1949 [1:01:29<00:00,  1.89s/it, Train Loss=1.7281, Train Accuracy=32.52%, Val Loss=1.5886, Val Accuracy=20.51%]\n"
     ]
    },
    {
     "name": "stdout",
     "output_type": "stream",
     "text": [
      "Model resnext50_32x4d at epoch 4 with accuracy of 20.69% is saved to \"../saved_models/resnext50_32x4d_best.pth\" successfully.\n"
     ]
    },
    {
     "name": "stderr",
     "output_type": "stream",
     "text": [
      "Epoch 5/100: 100%|████████████████████████████████████████████████████████████████| 1949/1949 [1:00:38<00:00,  1.87s/it, Train Loss=1.5819, Train Accuracy=39.15%, Val Loss=1.6215, Val Accuracy=21.63%]\n",
      "Epoch 6/100: 100%|██████████████████████████████████████████████████████████████████| 1949/1949 [59:59<00:00,  1.85s/it, Train Loss=1.4751, Train Accuracy=43.57%, Val Loss=1.5245, Val Accuracy=29.75%]\n"
     ]
    },
    {
     "name": "stdout",
     "output_type": "stream",
     "text": [
      "Model resnext50_32x4d at epoch 6 with accuracy of 30.13% is saved to \"../saved_models/resnext50_32x4d_best.pth\" successfully.\n"
     ]
    },
    {
     "name": "stderr",
     "output_type": "stream",
     "text": [
      "Epoch 7/100: 100%|██████████████████████████████████████████████████████████████████| 1949/1949 [59:36<00:00,  1.83s/it, Train Loss=1.3827, Train Accuracy=46.80%, Val Loss=1.2891, Val Accuracy=34.82%]\n"
     ]
    },
    {
     "name": "stdout",
     "output_type": "stream",
     "text": [
      "Model resnext50_32x4d at epoch 7 with accuracy of 34.96% is saved to \"../saved_models/resnext50_32x4d_best.pth\" successfully.\n"
     ]
    },
    {
     "name": "stderr",
     "output_type": "stream",
     "text": [
      "Epoch 8/100: 100%|██████████████████████████████████████████████████████████████████| 1949/1949 [59:24<00:00,  1.83s/it, Train Loss=1.3089, Train Accuracy=49.79%, Val Loss=1.2433, Val Accuracy=34.35%]\n"
     ]
    },
    {
     "name": "stdout",
     "output_type": "stream",
     "text": [
      "Model resnext50_32x4d at epoch 8 with accuracy of 34.12% is saved to \"../saved_models/resnext50_32x4d_best.pth\" successfully.\n"
     ]
    },
    {
     "name": "stderr",
     "output_type": "stream",
     "text": [
      "Epoch 9/100: 100%|██████████████████████████████████████████████████████████████████| 1949/1949 [59:42<00:00,  1.84s/it, Train Loss=1.2412, Train Accuracy=52.14%, Val Loss=1.4163, Val Accuracy=30.64%]\n",
      "Epoch 17/100: 100%|█████████████████████████████████████████████████████████████████| 1949/1949 [57:54<00:00,  1.78s/it, Train Loss=0.8541, Train Accuracy=67.21%, Val Loss=1.1120, Val Accuracy=47.54%]\n"
     ]
    },
    {
     "name": "stdout",
     "output_type": "stream",
     "text": [
      "Model resnext50_32x4d at epoch 17 with accuracy of 46.93% is saved to \"../saved_models/resnext50_32x4d_best.pth\" successfully.\n"
     ]
    },
    {
     "name": "stderr",
     "output_type": "stream",
     "text": [
      "Epoch 18/100: 100%|█████████████████████████████████████████████████████████████████| 1949/1949 [55:40<00:00,  1.71s/it, Train Loss=0.8367, Train Accuracy=67.84%, Val Loss=1.1343, Val Accuracy=45.89%]\n",
      "Epoch 19/100: 100%|█████████████████████████████████████████████████████████████████| 1949/1949 [55:04<00:00,  1.70s/it, Train Loss=0.8205, Train Accuracy=68.44%, Val Loss=1.1563, Val Accuracy=45.05%]\n",
      "Epoch 20/100: 100%|█████████████████████████████████████████████████████████████████| 1949/1949 [56:58<00:00,  1.75s/it, Train Loss=0.8079, Train Accuracy=69.06%, Val Loss=1.1018, Val Accuracy=46.83%]\n"
     ]
    },
    {
     "name": "stdout",
     "output_type": "stream",
     "text": [
      "Model resnext50_32x4d at epoch 20 with accuracy of 47.72% is saved to \"../saved_models/resnext50_32x4d_best.pth\" successfully.\n"
     ]
    },
    {
     "name": "stderr",
     "output_type": "stream",
     "text": [
      "Epoch 21/100: 100%|███████████████████████████████████████████████████████████████| 1949/1949 [1:10:48<00:00,  2.18s/it, Train Loss=0.7906, Train Accuracy=69.84%, Val Loss=1.2244, Val Accuracy=42.80%]\n"
     ]
    },
    {
     "name": "stdout",
     "output_type": "stream",
     "text": [
      "Epoch    21: reducing learning rate of group 0 to 1.0000e-05.\n"
     ]
    },
    {
     "name": "stderr",
     "output_type": "stream",
     "text": [
      "Epoch 22/100: 100%|███████████████████████████████████████████████████████████████| 1949/1949 [1:02:21<00:00,  1.92s/it, Train Loss=0.7872, Train Accuracy=69.99%, Val Loss=1.1118, Val Accuracy=46.93%]\n",
      "Epoch 23/100: 100%|█████████████████████████████████████████████████████████████████| 1949/1949 [59:46<00:00,  1.84s/it, Train Loss=0.7813, Train Accuracy=70.25%, Val Loss=1.1171, Val Accuracy=46.27%]\n",
      "Epoch 24/100: 100%|███████████████████████████████████████████████████████████████| 1949/1949 [1:01:55<00:00,  1.91s/it, Train Loss=0.7797, Train Accuracy=70.35%, Val Loss=1.1400, Val Accuracy=46.27%]\n"
     ]
    },
    {
     "name": "stdout",
     "output_type": "stream",
     "text": [
      "Model resnext50_32x4d at epoch 24 with accuracy of 47.72% is saved to \"../saved_models/resnext50_32x4d_best.pth\" successfully.\n"
     ]
    },
    {
     "name": "stderr",
     "output_type": "stream",
     "text": [
      "Epoch 25/100: 100%|█████████████████████████████████████████████████████████████████| 1949/1949 [58:19<00:00,  1.80s/it, Train Loss=0.7765, Train Accuracy=70.33%, Val Loss=1.1326, Val Accuracy=45.61%]\n"
     ]
    },
    {
     "name": "stdout",
     "output_type": "stream",
     "text": [
      "Epoch    25: reducing learning rate of group 0 to 1.0000e-06.\n"
     ]
    },
    {
     "name": "stderr",
     "output_type": "stream",
     "text": [
      "Epoch 26/100: 100%|█████████████████████████████████████████████████████████████████| 1949/1949 [59:02<00:00,  1.82s/it, Train Loss=0.8108, Train Accuracy=69.28%, Val Loss=1.1335, Val Accuracy=43.83%]\n",
      "Epoch 27/100: 100%|█████████████████████████████████████████████████████████████████| 1949/1949 [59:23<00:00,  1.83s/it, Train Loss=0.8120, Train Accuracy=69.25%, Val Loss=1.1187, Val Accuracy=44.30%]\n",
      "Epoch 28/100: 100%|█████████████████████████████████████████████████████████████████| 1949/1949 [59:03<00:00,  1.82s/it, Train Loss=0.8078, Train Accuracy=69.41%, Val Loss=1.1255, Val Accuracy=44.39%]\n",
      "Epoch 29/100:  70%|█████████████████████████████████████████████▎                   | 1357/1949 [40:14<15:46,  1.60s/it, Train Loss=0.8229, Train Accuracy=69.02%, Val Loss=1.1155, Val Accuracy=42.98%]"
     ]
    },
    {
     "name": "stdout",
     "output_type": "stream",
     "text": [
      "Epoch    29: reducing learning rate of group 0 to 1.0000e-07.\n"
     ]
    },
    {
     "name": "stderr",
     "output_type": "stream",
     "text": [
      "Epoch 30/100: 100%|█████████████████████████████████████████████████████████████████| 1949/1949 [58:37<00:00,  1.81s/it, Train Loss=0.8448, Train Accuracy=68.03%, Val Loss=1.1518, Val Accuracy=40.83%]\n",
      "Epoch 31/100: 100%|█████████████████████████████████████████████████████████████████| 1949/1949 [58:50<00:00,  1.81s/it, Train Loss=0.8359, Train Accuracy=68.40%, Val Loss=1.1539, Val Accuracy=41.53%]\n",
      "Epoch 32/100: 100%|█████████████████████████████████████████████████████████████████| 1949/1949 [58:27<00:00,  1.80s/it, Train Loss=0.8403, Train Accuracy=68.32%, Val Loss=1.1605, Val Accuracy=40.73%]\n",
      "Epoch 33/100:  25%|████████████████▋                                                 | 491/1949 [14:23<38:32,  1.59s/it, Train Loss=0.8943, Train Accuracy=65.91%, Val Loss=1.1789, Val Accuracy=39.18%]"
     ]
    }
   ],
   "source": [
    "# Construct the model for training process\n",
    "num_classes = len(label_mapping)\n",
    "\n",
    "model_name = 'resnext50_32x4d'\n",
    "model = create_model(model_name, num_classes)\n",
    "model = model.to(device)  # Move the model to the device\n",
    "\n",
    "# Define the loss function and optimizer\n",
    "criterion = nn.CrossEntropyLoss()\n",
    "optimizer = optim.Adam(model.parameters(), lr=0.001, weight_decay=1e-4)  # Transfer learning model\n",
    "scheduler = torch.optim.lr_scheduler.ReduceLROnPlateau(optimizer, mode='min', factor=0.1, patience=3, verbose=True)\n",
    "\n",
    "# Configuration for training process\n",
    "num_epochs = 100\n",
    "threshold = 0.5\n",
    "patience = 10\n",
    "save_dir = '../saved_models'  # Save the best model to this location\n",
    "\n",
    "# Start training\n",
    "metrics = train_model(model, train_loader, val_loader, criterion, optimizer, num_epochs, patience=patience, threshold=threshold, save_dir=save_dir)"
   ]
  },
  {
   "cell_type": "markdown",
   "metadata": {},
   "source": [
    "##Complexity measurement"
   ]
  },
  {
   "cell_type": "code",
   "execution_count": null,
   "metadata": {},
   "outputs": [],
   "source": [
    "# Measure training time\n",
    "measure_training_time(model, train_loader, criterion, optimizer, num_epochs=1)\n",
    "\n",
    "# Measure memory usage during training\n",
    "measure_memory_usage(model, train_loader)\n",
    "\n",
    "# Measure inference time\n",
    "measure_inference_time(model, test_loader)"
   ]
  },
  {
   "cell_type": "markdown",
   "metadata": {},
   "source": [
    "##Visualize training result"
   ]
  },
  {
   "cell_type": "code",
   "execution_count": null,
   "metadata": {
    "jupyter": {
     "source_hidden": true
    }
   },
   "outputs": [],
   "source": [
    "# Visualize the metrics\n",
    "plot_metrics(metrics)"
   ]
  },
  {
   "cell_type": "code",
   "execution_count": null,
   "metadata": {
    "jupyter": {
     "source_hidden": true
    }
   },
   "outputs": [],
   "source": [
    "# Visualize predictions\n",
    "visualize_predictions(model, val_loader, label_mapping, criterion, num_images=16)"
   ]
  },
  {
   "cell_type": "code",
   "execution_count": null,
   "metadata": {
    "jupyter": {
     "source_hidden": true
    }
   },
   "outputs": [],
   "source": [
    "# Plot the confusion matrix\n",
    "plot_confusion_matrix(model, test_loader, label_mapping)"
   ]
  },
  {
   "cell_type": "code",
   "execution_count": null,
   "metadata": {
    "jupyter": {
     "source_hidden": true
    }
   },
   "outputs": [],
   "source": [
    "# Plot the normalized confusion matrix\n",
    "plot_normalize_confusion_matrix(model, test_loader, label_mapping)"
   ]
  }
 ],
 "metadata": {
  "accelerator": "GPU",
  "colab": {
   "collapsed_sections": [
    "xeBj9Lx_hEcC",
    "dRZWMtovhU9p",
    "cZ2od0fWRUCi",
    "zKiD5zp25pJq",
    "N4CsGe2y5tbK",
    "Njji5lsPxf0b",
    "iyINnY5TYv-0",
    "u8ldKFqyy92D",
    "HLbjTCAvDuKf",
    "4yqQGm-1zA6r",
    "mW790OKaCYog",
    "RpnB7MbYHHKP",
    "WGl974l8E0Nd",
    "0WE-nwYqFT21",
    "MU1lRQZ0G7l5",
    "LczxTmecbOTA",
    "mHobivlPcOXU",
    "x71ADPlLeo2A",
    "oluFMJ7VcCha",
    "SEaZCvezeQqe",
    "5Lb0dC-S7KVW",
    "Czc3v26V_wLX",
    "y3W4w1FsXxJz",
    "_WFVgDH_FXzI",
    "ahaEPe0qKV9d"
   ],
   "gpuType": "T4",
   "provenance": []
  },
  "kernelspec": {
   "display_name": "Python 3 (ipykernel)",
   "language": "python",
   "name": "python3"
  },
  "language_info": {
   "codemirror_mode": {
    "name": "ipython",
    "version": 3
   },
   "file_extension": ".py",
   "mimetype": "text/x-python",
   "name": "python",
   "nbconvert_exporter": "python",
   "pygments_lexer": "ipython3",
   "version": "3.9.2"
  }
 },
 "nbformat": 4,
 "nbformat_minor": 4
}
